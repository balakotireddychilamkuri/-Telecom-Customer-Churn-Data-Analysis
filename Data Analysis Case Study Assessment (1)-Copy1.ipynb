{
 "cells": [
  {
   "cell_type": "markdown",
   "id": "a47aff0b",
   "metadata": {},
   "source": [
    "# Case Study – Customer Churn\n",
    "✔ A Telecom company is facing substantial churn, where a lot of its customers are cancelling the \n",
    "current service after using it for a certain period\n",
    "\n",
    "✔ It’s important for the telecom company to retain its customers not only to maintain a good flow of \n",
    "revenues, but also to avoid incurring costs to acquire new customers (as a compensatory \n",
    "measure), which can often be multiple times of the cost of customer retention. Also, often any \n",
    "churned customer migrates to the competition in search of better alternatives, which every \n",
    "telecom client wants to minimize to the extent possible\n",
    "\n",
    "✔ For reducing a future churn it’s important to understand what caused the customers to leave in \n",
    "the past and whether there are any relevant factors, which if tracked on-time can indicate taking \n",
    "appropriate actions to avoid a future churn.\n",
    "\n",
    "✔ The Telecom company has made some information available for a potential analysis"
   ]
  },
  {
   "cell_type": "markdown",
   "id": "64a52b3a",
   "metadata": {},
   "source": [
    "# Business Objective\n",
    "✔ The Telecom Co. needs assistance in performing some quantitative analysis on the provided dataset and \n",
    "generate some relevant insights. This should guide the Co. to first understand what factors are potentially \n",
    "causing churn and by taking what actions can the churn be minimized\n",
    "\n",
    "✔ Using the available information what analysis would you perform that can help here ?\n"
   ]
  },
  {
   "cell_type": "code",
   "execution_count": 1,
   "id": "1e872f6c",
   "metadata": {},
   "outputs": [],
   "source": [
    "import pandas as pd\n",
    "import os\n",
    "import matplotlib.pyplot as plt\n",
    "import seaborn as sns"
   ]
  },
  {
   "cell_type": "code",
   "execution_count": 2,
   "id": "6df67128",
   "metadata": {},
   "outputs": [
    {
     "data": {
      "text/plain": [
       "['07 Customer Churn Case Study Data.xlsx',\n",
       " '07 Customer Churn Case Study.pptx.pdf',\n",
       " 'Deliverables Instructions and Template-20220302']"
      ]
     },
     "execution_count": 2,
     "metadata": {},
     "output_type": "execute_result"
    }
   ],
   "source": [
    "os.chdir(r'F:\\Casestudymod2')\n",
    "os.listdir()"
   ]
  },
  {
   "cell_type": "code",
   "execution_count": 3,
   "id": "1a7fa937",
   "metadata": {},
   "outputs": [
    {
     "data": {
      "text/html": [
       "<div>\n",
       "<style scoped>\n",
       "    .dataframe tbody tr th:only-of-type {\n",
       "        vertical-align: middle;\n",
       "    }\n",
       "\n",
       "    .dataframe tbody tr th {\n",
       "        vertical-align: top;\n",
       "    }\n",
       "\n",
       "    .dataframe thead th {\n",
       "        text-align: right;\n",
       "    }\n",
       "</style>\n",
       "<table border=\"1\" class=\"dataframe\">\n",
       "  <thead>\n",
       "    <tr style=\"text-align: right;\">\n",
       "      <th></th>\n",
       "      <th>weeks_active</th>\n",
       "      <th>conrenew_flag</th>\n",
       "      <th>dataplan_flag</th>\n",
       "      <th>data_usage</th>\n",
       "      <th>num_cs_calls</th>\n",
       "      <th>avg_talk_time</th>\n",
       "      <th>avg_calls</th>\n",
       "      <th>mth_bill</th>\n",
       "      <th>overagefee</th>\n",
       "      <th>roam_mins</th>\n",
       "      <th>churn_flag</th>\n",
       "    </tr>\n",
       "  </thead>\n",
       "  <tbody>\n",
       "    <tr>\n",
       "      <th>0</th>\n",
       "      <td>128</td>\n",
       "      <td>1</td>\n",
       "      <td>1</td>\n",
       "      <td>2.70</td>\n",
       "      <td>1</td>\n",
       "      <td>265.1</td>\n",
       "      <td>110</td>\n",
       "      <td>89.0</td>\n",
       "      <td>9.87</td>\n",
       "      <td>10.0</td>\n",
       "      <td>0</td>\n",
       "    </tr>\n",
       "    <tr>\n",
       "      <th>1</th>\n",
       "      <td>107</td>\n",
       "      <td>1</td>\n",
       "      <td>1</td>\n",
       "      <td>3.70</td>\n",
       "      <td>1</td>\n",
       "      <td>161.6</td>\n",
       "      <td>123</td>\n",
       "      <td>82.0</td>\n",
       "      <td>9.78</td>\n",
       "      <td>13.7</td>\n",
       "      <td>0</td>\n",
       "    </tr>\n",
       "    <tr>\n",
       "      <th>2</th>\n",
       "      <td>137</td>\n",
       "      <td>1</td>\n",
       "      <td>0</td>\n",
       "      <td>0.00</td>\n",
       "      <td>0</td>\n",
       "      <td>243.4</td>\n",
       "      <td>114</td>\n",
       "      <td>52.0</td>\n",
       "      <td>6.06</td>\n",
       "      <td>12.2</td>\n",
       "      <td>0</td>\n",
       "    </tr>\n",
       "    <tr>\n",
       "      <th>3</th>\n",
       "      <td>84</td>\n",
       "      <td>0</td>\n",
       "      <td>0</td>\n",
       "      <td>0.00</td>\n",
       "      <td>2</td>\n",
       "      <td>299.4</td>\n",
       "      <td>71</td>\n",
       "      <td>57.0</td>\n",
       "      <td>3.10</td>\n",
       "      <td>6.6</td>\n",
       "      <td>0</td>\n",
       "    </tr>\n",
       "    <tr>\n",
       "      <th>4</th>\n",
       "      <td>75</td>\n",
       "      <td>0</td>\n",
       "      <td>0</td>\n",
       "      <td>0.00</td>\n",
       "      <td>3</td>\n",
       "      <td>166.7</td>\n",
       "      <td>113</td>\n",
       "      <td>41.0</td>\n",
       "      <td>7.42</td>\n",
       "      <td>10.1</td>\n",
       "      <td>0</td>\n",
       "    </tr>\n",
       "    <tr>\n",
       "      <th>...</th>\n",
       "      <td>...</td>\n",
       "      <td>...</td>\n",
       "      <td>...</td>\n",
       "      <td>...</td>\n",
       "      <td>...</td>\n",
       "      <td>...</td>\n",
       "      <td>...</td>\n",
       "      <td>...</td>\n",
       "      <td>...</td>\n",
       "      <td>...</td>\n",
       "      <td>...</td>\n",
       "    </tr>\n",
       "    <tr>\n",
       "      <th>3328</th>\n",
       "      <td>192</td>\n",
       "      <td>1</td>\n",
       "      <td>1</td>\n",
       "      <td>2.67</td>\n",
       "      <td>2</td>\n",
       "      <td>156.2</td>\n",
       "      <td>77</td>\n",
       "      <td>71.7</td>\n",
       "      <td>10.78</td>\n",
       "      <td>9.9</td>\n",
       "      <td>0</td>\n",
       "    </tr>\n",
       "    <tr>\n",
       "      <th>3329</th>\n",
       "      <td>68</td>\n",
       "      <td>1</td>\n",
       "      <td>0</td>\n",
       "      <td>0.34</td>\n",
       "      <td>3</td>\n",
       "      <td>231.1</td>\n",
       "      <td>57</td>\n",
       "      <td>56.4</td>\n",
       "      <td>7.67</td>\n",
       "      <td>9.6</td>\n",
       "      <td>0</td>\n",
       "    </tr>\n",
       "    <tr>\n",
       "      <th>3330</th>\n",
       "      <td>28</td>\n",
       "      <td>1</td>\n",
       "      <td>0</td>\n",
       "      <td>0.00</td>\n",
       "      <td>2</td>\n",
       "      <td>180.8</td>\n",
       "      <td>109</td>\n",
       "      <td>56.0</td>\n",
       "      <td>14.44</td>\n",
       "      <td>14.1</td>\n",
       "      <td>0</td>\n",
       "    </tr>\n",
       "    <tr>\n",
       "      <th>3331</th>\n",
       "      <td>184</td>\n",
       "      <td>0</td>\n",
       "      <td>0</td>\n",
       "      <td>0.00</td>\n",
       "      <td>2</td>\n",
       "      <td>213.8</td>\n",
       "      <td>105</td>\n",
       "      <td>50.0</td>\n",
       "      <td>7.98</td>\n",
       "      <td>5.0</td>\n",
       "      <td>0</td>\n",
       "    </tr>\n",
       "    <tr>\n",
       "      <th>3332</th>\n",
       "      <td>74</td>\n",
       "      <td>1</td>\n",
       "      <td>1</td>\n",
       "      <td>3.70</td>\n",
       "      <td>0</td>\n",
       "      <td>234.4</td>\n",
       "      <td>113</td>\n",
       "      <td>100.0</td>\n",
       "      <td>13.30</td>\n",
       "      <td>13.7</td>\n",
       "      <td>0</td>\n",
       "    </tr>\n",
       "  </tbody>\n",
       "</table>\n",
       "<p>3333 rows × 11 columns</p>\n",
       "</div>"
      ],
      "text/plain": [
       "      weeks_active  conrenew_flag  dataplan_flag  data_usage  num_cs_calls  \\\n",
       "0              128              1              1        2.70             1   \n",
       "1              107              1              1        3.70             1   \n",
       "2              137              1              0        0.00             0   \n",
       "3               84              0              0        0.00             2   \n",
       "4               75              0              0        0.00             3   \n",
       "...            ...            ...            ...         ...           ...   \n",
       "3328           192              1              1        2.67             2   \n",
       "3329            68              1              0        0.34             3   \n",
       "3330            28              1              0        0.00             2   \n",
       "3331           184              0              0        0.00             2   \n",
       "3332            74              1              1        3.70             0   \n",
       "\n",
       "      avg_talk_time  avg_calls  mth_bill  overagefee  roam_mins  churn_flag  \n",
       "0             265.1        110      89.0        9.87       10.0           0  \n",
       "1             161.6        123      82.0        9.78       13.7           0  \n",
       "2             243.4        114      52.0        6.06       12.2           0  \n",
       "3             299.4         71      57.0        3.10        6.6           0  \n",
       "4             166.7        113      41.0        7.42       10.1           0  \n",
       "...             ...        ...       ...         ...        ...         ...  \n",
       "3328          156.2         77      71.7       10.78        9.9           0  \n",
       "3329          231.1         57      56.4        7.67        9.6           0  \n",
       "3330          180.8        109      56.0       14.44       14.1           0  \n",
       "3331          213.8        105      50.0        7.98        5.0           0  \n",
       "3332          234.4        113     100.0       13.30       13.7           0  \n",
       "\n",
       "[3333 rows x 11 columns]"
      ]
     },
     "execution_count": 3,
     "metadata": {},
     "output_type": "execute_result"
    }
   ],
   "source": [
    "df=pd.read_excel('07 Customer Churn Case Study Data.xlsx',sheet_name='Data')\n",
    "df"
   ]
  },
  {
   "cell_type": "code",
   "execution_count": 4,
   "id": "9d4dfb29",
   "metadata": {},
   "outputs": [
    {
     "data": {
      "text/plain": [
       "1    1181\n",
       "2     759\n",
       "0     697\n",
       "3     429\n",
       "4     166\n",
       "5      66\n",
       "6      22\n",
       "7       9\n",
       "8       2\n",
       "9       2\n",
       "Name: num_cs_calls, dtype: int64"
      ]
     },
     "execution_count": 4,
     "metadata": {},
     "output_type": "execute_result"
    }
   ],
   "source": [
    "df.num_cs_calls.value_counts()"
   ]
  },
  {
   "cell_type": "code",
   "execution_count": 5,
   "id": "2ece8283",
   "metadata": {},
   "outputs": [
    {
     "data": {
      "text/plain": [
       "(3333, 11)"
      ]
     },
     "execution_count": 5,
     "metadata": {},
     "output_type": "execute_result"
    }
   ],
   "source": [
    "df.shape"
   ]
  },
  {
   "cell_type": "code",
   "execution_count": 6,
   "id": "d7bd91d9",
   "metadata": {},
   "outputs": [
    {
     "data": {
      "text/plain": [
       "Index(['weeks_active', 'conrenew_flag', 'dataplan_flag', 'data_usage',\n",
       "       'num_cs_calls', 'avg_talk_time', 'avg_calls', 'mth_bill', 'overagefee',\n",
       "       'roam_mins', 'churn_flag'],\n",
       "      dtype='object')"
      ]
     },
     "execution_count": 6,
     "metadata": {},
     "output_type": "execute_result"
    }
   ],
   "source": [
    "df.columns"
   ]
  },
  {
   "cell_type": "markdown",
   "id": "4dcd62c5",
   "metadata": {},
   "source": [
    "# Section 02: Data Health Review\n"
   ]
  },
  {
   "cell_type": "markdown",
   "id": "3cadfeda",
   "metadata": {},
   "source": [
    "# A. Observe Univariate distributions on both Object and Numeric variable"
   ]
  },
  {
   "cell_type": "code",
   "execution_count": 7,
   "id": "bd98b1f2",
   "metadata": {},
   "outputs": [],
   "source": [
    "# Do the variables get read in Python in the right format (Integer, Float, Boolean, Date,Object)?\n",
    "# List down what corrective steps were taken (if any) for the affected variables?"
   ]
  },
  {
   "cell_type": "code",
   "execution_count": 8,
   "id": "4a3017f7",
   "metadata": {},
   "outputs": [
    {
     "name": "stdout",
     "output_type": "stream",
     "text": [
      "<class 'pandas.core.frame.DataFrame'>\n",
      "RangeIndex: 3333 entries, 0 to 3332\n",
      "Data columns (total 11 columns):\n",
      " #   Column         Non-Null Count  Dtype  \n",
      "---  ------         --------------  -----  \n",
      " 0   weeks_active   3333 non-null   int64  \n",
      " 1   conrenew_flag  3333 non-null   int64  \n",
      " 2   dataplan_flag  3333 non-null   int64  \n",
      " 3   data_usage     3333 non-null   float64\n",
      " 4   num_cs_calls   3333 non-null   int64  \n",
      " 5   avg_talk_time  3333 non-null   float64\n",
      " 6   avg_calls      3333 non-null   int64  \n",
      " 7   mth_bill       3333 non-null   float64\n",
      " 8   overagefee     3333 non-null   float64\n",
      " 9   roam_mins      3333 non-null   float64\n",
      " 10  churn_flag     3333 non-null   int64  \n",
      "dtypes: float64(5), int64(6)\n",
      "memory usage: 286.6 KB\n"
     ]
    }
   ],
   "source": [
    "df.info()"
   ]
  },
  {
   "cell_type": "code",
   "execution_count": 9,
   "id": "df249813",
   "metadata": {},
   "outputs": [],
   "source": [
    "# Observation \n",
    "## The variables get read in Python in the right format (Integer, Float, Boolean)"
   ]
  },
  {
   "cell_type": "code",
   "execution_count": null,
   "id": "cbf09ddb",
   "metadata": {},
   "outputs": [],
   "source": []
  },
  {
   "cell_type": "code",
   "execution_count": 10,
   "id": "7c131a45",
   "metadata": {},
   "outputs": [],
   "source": [
    "# Do any variables have missing values? Create a list of variables for which you found\n",
    "# missing values and what % values in these variables were affected?"
   ]
  },
  {
   "cell_type": "code",
   "execution_count": 11,
   "id": "0551d909",
   "metadata": {
    "scrolled": true
   },
   "outputs": [
    {
     "data": {
      "text/plain": [
       "weeks_active     0\n",
       "conrenew_flag    0\n",
       "dataplan_flag    0\n",
       "data_usage       0\n",
       "num_cs_calls     0\n",
       "avg_talk_time    0\n",
       "avg_calls        0\n",
       "mth_bill         0\n",
       "overagefee       0\n",
       "roam_mins        0\n",
       "churn_flag       0\n",
       "dtype: int64"
      ]
     },
     "execution_count": 11,
     "metadata": {},
     "output_type": "execute_result"
    }
   ],
   "source": [
    "df.isnull().sum()"
   ]
  },
  {
   "cell_type": "code",
   "execution_count": 12,
   "id": "6517e24c",
   "metadata": {},
   "outputs": [],
   "source": [
    "# Observation \n",
    "## No variable has the missing values "
   ]
  },
  {
   "cell_type": "code",
   "execution_count": null,
   "id": "f31e3efb",
   "metadata": {},
   "outputs": [],
   "source": []
  },
  {
   "cell_type": "code",
   "execution_count": 13,
   "id": "0ebc18e0",
   "metadata": {},
   "outputs": [],
   "source": [
    "# Do any variables have outliers? Use suitable plots to show the outliers for all these\n",
    "# affected variables"
   ]
  },
  {
   "cell_type": "code",
   "execution_count": 88,
   "id": "d2e7f36d",
   "metadata": {
    "scrolled": true
   },
   "outputs": [
    {
     "data": {
      "text/html": [
       "<div>\n",
       "<style scoped>\n",
       "    .dataframe tbody tr th:only-of-type {\n",
       "        vertical-align: middle;\n",
       "    }\n",
       "\n",
       "    .dataframe tbody tr th {\n",
       "        vertical-align: top;\n",
       "    }\n",
       "\n",
       "    .dataframe thead th {\n",
       "        text-align: right;\n",
       "    }\n",
       "</style>\n",
       "<table border=\"1\" class=\"dataframe\">\n",
       "  <thead>\n",
       "    <tr style=\"text-align: right;\">\n",
       "      <th></th>\n",
       "      <th>count</th>\n",
       "      <th>mean</th>\n",
       "      <th>std</th>\n",
       "      <th>min</th>\n",
       "      <th>1%</th>\n",
       "      <th>5%</th>\n",
       "      <th>25%</th>\n",
       "      <th>50%</th>\n",
       "      <th>75%</th>\n",
       "      <th>95%</th>\n",
       "      <th>99%</th>\n",
       "      <th>max</th>\n",
       "    </tr>\n",
       "  </thead>\n",
       "  <tbody>\n",
       "    <tr>\n",
       "      <th>weeks_active</th>\n",
       "      <td>3333.0</td>\n",
       "      <td>101.064806</td>\n",
       "      <td>39.822106</td>\n",
       "      <td>1.0</td>\n",
       "      <td>12.3200</td>\n",
       "      <td>35.00</td>\n",
       "      <td>74.00</td>\n",
       "      <td>101.00</td>\n",
       "      <td>127.00</td>\n",
       "      <td>167.00</td>\n",
       "      <td>195.0000</td>\n",
       "      <td>243.00</td>\n",
       "    </tr>\n",
       "    <tr>\n",
       "      <th>conrenew_flag</th>\n",
       "      <td>3333.0</td>\n",
       "      <td>0.903090</td>\n",
       "      <td>0.295879</td>\n",
       "      <td>0.0</td>\n",
       "      <td>0.0000</td>\n",
       "      <td>0.00</td>\n",
       "      <td>1.00</td>\n",
       "      <td>1.00</td>\n",
       "      <td>1.00</td>\n",
       "      <td>1.00</td>\n",
       "      <td>1.0000</td>\n",
       "      <td>1.00</td>\n",
       "    </tr>\n",
       "    <tr>\n",
       "      <th>dataplan_flag</th>\n",
       "      <td>3333.0</td>\n",
       "      <td>0.276628</td>\n",
       "      <td>0.447398</td>\n",
       "      <td>0.0</td>\n",
       "      <td>0.0000</td>\n",
       "      <td>0.00</td>\n",
       "      <td>0.00</td>\n",
       "      <td>0.00</td>\n",
       "      <td>1.00</td>\n",
       "      <td>1.00</td>\n",
       "      <td>1.0000</td>\n",
       "      <td>1.00</td>\n",
       "    </tr>\n",
       "    <tr>\n",
       "      <th>data_usage</th>\n",
       "      <td>3333.0</td>\n",
       "      <td>0.816475</td>\n",
       "      <td>1.272668</td>\n",
       "      <td>0.0</td>\n",
       "      <td>0.0000</td>\n",
       "      <td>0.00</td>\n",
       "      <td>0.00</td>\n",
       "      <td>0.00</td>\n",
       "      <td>1.78</td>\n",
       "      <td>3.46</td>\n",
       "      <td>4.1000</td>\n",
       "      <td>5.40</td>\n",
       "    </tr>\n",
       "    <tr>\n",
       "      <th>num_cs_calls</th>\n",
       "      <td>3333.0</td>\n",
       "      <td>1.562856</td>\n",
       "      <td>1.315491</td>\n",
       "      <td>0.0</td>\n",
       "      <td>0.0000</td>\n",
       "      <td>0.00</td>\n",
       "      <td>1.00</td>\n",
       "      <td>1.00</td>\n",
       "      <td>2.00</td>\n",
       "      <td>4.00</td>\n",
       "      <td>6.0000</td>\n",
       "      <td>9.00</td>\n",
       "    </tr>\n",
       "    <tr>\n",
       "      <th>avg_talk_time</th>\n",
       "      <td>3333.0</td>\n",
       "      <td>179.775098</td>\n",
       "      <td>54.467389</td>\n",
       "      <td>0.0</td>\n",
       "      <td>51.8320</td>\n",
       "      <td>89.92</td>\n",
       "      <td>143.70</td>\n",
       "      <td>179.40</td>\n",
       "      <td>216.40</td>\n",
       "      <td>270.74</td>\n",
       "      <td>305.1680</td>\n",
       "      <td>350.80</td>\n",
       "    </tr>\n",
       "    <tr>\n",
       "      <th>avg_calls</th>\n",
       "      <td>3333.0</td>\n",
       "      <td>100.435644</td>\n",
       "      <td>20.069084</td>\n",
       "      <td>0.0</td>\n",
       "      <td>54.0000</td>\n",
       "      <td>67.00</td>\n",
       "      <td>87.00</td>\n",
       "      <td>101.00</td>\n",
       "      <td>114.00</td>\n",
       "      <td>133.00</td>\n",
       "      <td>146.0000</td>\n",
       "      <td>165.00</td>\n",
       "    </tr>\n",
       "    <tr>\n",
       "      <th>mth_bill</th>\n",
       "      <td>3333.0</td>\n",
       "      <td>56.305161</td>\n",
       "      <td>16.426032</td>\n",
       "      <td>14.0</td>\n",
       "      <td>26.0000</td>\n",
       "      <td>33.26</td>\n",
       "      <td>45.00</td>\n",
       "      <td>53.50</td>\n",
       "      <td>66.20</td>\n",
       "      <td>87.80</td>\n",
       "      <td>98.2800</td>\n",
       "      <td>111.30</td>\n",
       "    </tr>\n",
       "    <tr>\n",
       "      <th>overagefee</th>\n",
       "      <td>3333.0</td>\n",
       "      <td>10.051488</td>\n",
       "      <td>2.535712</td>\n",
       "      <td>0.0</td>\n",
       "      <td>3.9796</td>\n",
       "      <td>5.94</td>\n",
       "      <td>8.33</td>\n",
       "      <td>10.07</td>\n",
       "      <td>11.77</td>\n",
       "      <td>14.22</td>\n",
       "      <td>15.9468</td>\n",
       "      <td>18.19</td>\n",
       "    </tr>\n",
       "    <tr>\n",
       "      <th>roam_mins</th>\n",
       "      <td>3333.0</td>\n",
       "      <td>10.237294</td>\n",
       "      <td>2.791840</td>\n",
       "      <td>0.0</td>\n",
       "      <td>3.3320</td>\n",
       "      <td>5.70</td>\n",
       "      <td>8.50</td>\n",
       "      <td>10.30</td>\n",
       "      <td>12.10</td>\n",
       "      <td>14.70</td>\n",
       "      <td>16.6680</td>\n",
       "      <td>20.00</td>\n",
       "    </tr>\n",
       "    <tr>\n",
       "      <th>churn_flag</th>\n",
       "      <td>3333.0</td>\n",
       "      <td>0.144914</td>\n",
       "      <td>0.352067</td>\n",
       "      <td>0.0</td>\n",
       "      <td>0.0000</td>\n",
       "      <td>0.00</td>\n",
       "      <td>0.00</td>\n",
       "      <td>0.00</td>\n",
       "      <td>0.00</td>\n",
       "      <td>1.00</td>\n",
       "      <td>1.0000</td>\n",
       "      <td>1.00</td>\n",
       "    </tr>\n",
       "  </tbody>\n",
       "</table>\n",
       "</div>"
      ],
      "text/plain": [
       "                count        mean        std   min       1%     5%     25%  \\\n",
       "weeks_active   3333.0  101.064806  39.822106   1.0  12.3200  35.00   74.00   \n",
       "conrenew_flag  3333.0    0.903090   0.295879   0.0   0.0000   0.00    1.00   \n",
       "dataplan_flag  3333.0    0.276628   0.447398   0.0   0.0000   0.00    0.00   \n",
       "data_usage     3333.0    0.816475   1.272668   0.0   0.0000   0.00    0.00   \n",
       "num_cs_calls   3333.0    1.562856   1.315491   0.0   0.0000   0.00    1.00   \n",
       "avg_talk_time  3333.0  179.775098  54.467389   0.0  51.8320  89.92  143.70   \n",
       "avg_calls      3333.0  100.435644  20.069084   0.0  54.0000  67.00   87.00   \n",
       "mth_bill       3333.0   56.305161  16.426032  14.0  26.0000  33.26   45.00   \n",
       "overagefee     3333.0   10.051488   2.535712   0.0   3.9796   5.94    8.33   \n",
       "roam_mins      3333.0   10.237294   2.791840   0.0   3.3320   5.70    8.50   \n",
       "churn_flag     3333.0    0.144914   0.352067   0.0   0.0000   0.00    0.00   \n",
       "\n",
       "                  50%     75%     95%       99%     max  \n",
       "weeks_active   101.00  127.00  167.00  195.0000  243.00  \n",
       "conrenew_flag    1.00    1.00    1.00    1.0000    1.00  \n",
       "dataplan_flag    0.00    1.00    1.00    1.0000    1.00  \n",
       "data_usage       0.00    1.78    3.46    4.1000    5.40  \n",
       "num_cs_calls     1.00    2.00    4.00    6.0000    9.00  \n",
       "avg_talk_time  179.40  216.40  270.74  305.1680  350.80  \n",
       "avg_calls      101.00  114.00  133.00  146.0000  165.00  \n",
       "mth_bill        53.50   66.20   87.80   98.2800  111.30  \n",
       "overagefee      10.07   11.77   14.22   15.9468   18.19  \n",
       "roam_mins       10.30   12.10   14.70   16.6680   20.00  \n",
       "churn_flag       0.00    0.00    1.00    1.0000    1.00  "
      ]
     },
     "execution_count": 88,
     "metadata": {},
     "output_type": "execute_result"
    }
   ],
   "source": [
    "df.describe(percentiles=[0.01,0.05, 0.25, 0.75, 0.95, 0.99]).T"
   ]
  },
  {
   "cell_type": "code",
   "execution_count": 15,
   "id": "7c4d3eb7",
   "metadata": {},
   "outputs": [],
   "source": [
    "# Observation \n",
    "## All the variables does'nt exhibit any outliers"
   ]
  },
  {
   "cell_type": "markdown",
   "id": "2d69bf4f",
   "metadata": {},
   "source": [
    "# unique values %"
   ]
  },
  {
   "cell_type": "code",
   "execution_count": 16,
   "id": "f9f71999",
   "metadata": {},
   "outputs": [
    {
     "data": {
      "text/plain": [
       "Index(['weeks_active', 'conrenew_flag', 'dataplan_flag', 'data_usage',\n",
       "       'num_cs_calls', 'avg_talk_time', 'avg_calls', 'mth_bill', 'overagefee',\n",
       "       'roam_mins', 'churn_flag'],\n",
       "      dtype='object')"
      ]
     },
     "execution_count": 16,
     "metadata": {},
     "output_type": "execute_result"
    }
   ],
   "source": [
    "u=df.columns\n",
    "u"
   ]
  },
  {
   "cell_type": "code",
   "execution_count": 17,
   "id": "00feb242",
   "metadata": {},
   "outputs": [
    {
     "name": "stdout",
     "output_type": "stream",
     "text": [
      "weeks_active ------ 6.361\n",
      "conrenew_flag ------ 0.06\n",
      "dataplan_flag ------ 0.06\n",
      "data_usage ------ 5.221\n",
      "num_cs_calls ------ 0.3\n",
      "avg_talk_time ------ 50.015\n",
      "avg_calls ------ 3.57\n",
      "mth_bill ------ 18.812\n",
      "overagefee ------ 30.723\n",
      "roam_mins ------ 4.86\n",
      "churn_flag ------ 0.06\n"
     ]
    }
   ],
   "source": [
    "for i in u:\n",
    "    print(i,'------',round((df[i].nunique()/df.shape[0])*100,3))"
   ]
  },
  {
   "cell_type": "code",
   "execution_count": null,
   "id": "91df3421",
   "metadata": {},
   "outputs": [],
   "source": []
  },
  {
   "cell_type": "code",
   "execution_count": null,
   "id": "64be664b",
   "metadata": {},
   "outputs": [],
   "source": []
  },
  {
   "cell_type": "code",
   "execution_count": 18,
   "id": "4f88ed71",
   "metadata": {},
   "outputs": [],
   "source": [
    "# Are there any variables that require cleaning (extra spaces, special characters,\n",
    "# unexpected values, etc.) or replacement of values (e.g., Yes/No to 1/0)? List down all\n",
    "# such variables and the kind of cleaning required\n"
   ]
  },
  {
   "cell_type": "code",
   "execution_count": 19,
   "id": "87a163bb",
   "metadata": {},
   "outputs": [
    {
     "data": {
      "text/html": [
       "<div>\n",
       "<style scoped>\n",
       "    .dataframe tbody tr th:only-of-type {\n",
       "        vertical-align: middle;\n",
       "    }\n",
       "\n",
       "    .dataframe tbody tr th {\n",
       "        vertical-align: top;\n",
       "    }\n",
       "\n",
       "    .dataframe thead th {\n",
       "        text-align: right;\n",
       "    }\n",
       "</style>\n",
       "<table border=\"1\" class=\"dataframe\">\n",
       "  <thead>\n",
       "    <tr style=\"text-align: right;\">\n",
       "      <th></th>\n",
       "      <th>weeks_active</th>\n",
       "      <th>conrenew_flag</th>\n",
       "      <th>dataplan_flag</th>\n",
       "      <th>data_usage</th>\n",
       "      <th>num_cs_calls</th>\n",
       "      <th>avg_talk_time</th>\n",
       "      <th>avg_calls</th>\n",
       "      <th>mth_bill</th>\n",
       "      <th>overagefee</th>\n",
       "      <th>roam_mins</th>\n",
       "      <th>churn_flag</th>\n",
       "    </tr>\n",
       "  </thead>\n",
       "  <tbody>\n",
       "    <tr>\n",
       "      <th>0</th>\n",
       "      <td>128</td>\n",
       "      <td>1</td>\n",
       "      <td>1</td>\n",
       "      <td>2.7</td>\n",
       "      <td>1</td>\n",
       "      <td>265.1</td>\n",
       "      <td>110</td>\n",
       "      <td>89.0</td>\n",
       "      <td>9.87</td>\n",
       "      <td>10.0</td>\n",
       "      <td>0</td>\n",
       "    </tr>\n",
       "    <tr>\n",
       "      <th>1</th>\n",
       "      <td>107</td>\n",
       "      <td>1</td>\n",
       "      <td>1</td>\n",
       "      <td>3.7</td>\n",
       "      <td>1</td>\n",
       "      <td>161.6</td>\n",
       "      <td>123</td>\n",
       "      <td>82.0</td>\n",
       "      <td>9.78</td>\n",
       "      <td>13.7</td>\n",
       "      <td>0</td>\n",
       "    </tr>\n",
       "    <tr>\n",
       "      <th>2</th>\n",
       "      <td>137</td>\n",
       "      <td>1</td>\n",
       "      <td>0</td>\n",
       "      <td>0.0</td>\n",
       "      <td>0</td>\n",
       "      <td>243.4</td>\n",
       "      <td>114</td>\n",
       "      <td>52.0</td>\n",
       "      <td>6.06</td>\n",
       "      <td>12.2</td>\n",
       "      <td>0</td>\n",
       "    </tr>\n",
       "    <tr>\n",
       "      <th>3</th>\n",
       "      <td>84</td>\n",
       "      <td>0</td>\n",
       "      <td>0</td>\n",
       "      <td>0.0</td>\n",
       "      <td>2</td>\n",
       "      <td>299.4</td>\n",
       "      <td>71</td>\n",
       "      <td>57.0</td>\n",
       "      <td>3.10</td>\n",
       "      <td>6.6</td>\n",
       "      <td>0</td>\n",
       "    </tr>\n",
       "    <tr>\n",
       "      <th>4</th>\n",
       "      <td>75</td>\n",
       "      <td>0</td>\n",
       "      <td>0</td>\n",
       "      <td>0.0</td>\n",
       "      <td>3</td>\n",
       "      <td>166.7</td>\n",
       "      <td>113</td>\n",
       "      <td>41.0</td>\n",
       "      <td>7.42</td>\n",
       "      <td>10.1</td>\n",
       "      <td>0</td>\n",
       "    </tr>\n",
       "  </tbody>\n",
       "</table>\n",
       "</div>"
      ],
      "text/plain": [
       "   weeks_active  conrenew_flag  dataplan_flag  data_usage  num_cs_calls  \\\n",
       "0           128              1              1         2.7             1   \n",
       "1           107              1              1         3.7             1   \n",
       "2           137              1              0         0.0             0   \n",
       "3            84              0              0         0.0             2   \n",
       "4            75              0              0         0.0             3   \n",
       "\n",
       "   avg_talk_time  avg_calls  mth_bill  overagefee  roam_mins  churn_flag  \n",
       "0          265.1        110      89.0        9.87       10.0           0  \n",
       "1          161.6        123      82.0        9.78       13.7           0  \n",
       "2          243.4        114      52.0        6.06       12.2           0  \n",
       "3          299.4         71      57.0        3.10        6.6           0  \n",
       "4          166.7        113      41.0        7.42       10.1           0  "
      ]
     },
     "execution_count": 19,
     "metadata": {},
     "output_type": "execute_result"
    }
   ],
   "source": [
    "df.head()"
   ]
  },
  {
   "cell_type": "code",
   "execution_count": null,
   "id": "fe2c3984",
   "metadata": {},
   "outputs": [],
   "source": []
  },
  {
   "cell_type": "code",
   "execution_count": null,
   "id": "87f9cec5",
   "metadata": {},
   "outputs": [],
   "source": []
  },
  {
   "cell_type": "code",
   "execution_count": 20,
   "id": "d73294d0",
   "metadata": {},
   "outputs": [],
   "source": [
    "# Are there any duplicate records in the data? If yes, how many"
   ]
  },
  {
   "cell_type": "code",
   "execution_count": 21,
   "id": "13558e3e",
   "metadata": {},
   "outputs": [
    {
     "data": {
      "text/plain": [
       "0"
      ]
     },
     "execution_count": 21,
     "metadata": {},
     "output_type": "execute_result"
    }
   ],
   "source": [
    "df.duplicated().sum()"
   ]
  },
  {
   "cell_type": "code",
   "execution_count": 22,
   "id": "3c2953b0",
   "metadata": {},
   "outputs": [],
   "source": [
    "# Observation\n",
    "## There are no duplicate records in the data"
   ]
  },
  {
   "cell_type": "markdown",
   "id": "18412d1d",
   "metadata": {},
   "source": [
    "# Section 3"
   ]
  },
  {
   "cell_type": "markdown",
   "id": "6fe5920f",
   "metadata": {},
   "source": [
    "## Customers being active according to weeks"
   ]
  },
  {
   "cell_type": "code",
   "execution_count": 23,
   "id": "6bf27483",
   "metadata": {},
   "outputs": [
    {
     "data": {
      "text/plain": [
       "count    3333.000000\n",
       "mean      101.064806\n",
       "std        39.822106\n",
       "min         1.000000\n",
       "25%        74.000000\n",
       "50%       101.000000\n",
       "75%       127.000000\n",
       "max       243.000000\n",
       "Name: weeks_active, dtype: float64"
      ]
     },
     "execution_count": 23,
     "metadata": {},
     "output_type": "execute_result"
    }
   ],
   "source": [
    "df.weeks_active.describe()"
   ]
  },
  {
   "cell_type": "code",
   "execution_count": 24,
   "id": "21fdc9d5",
   "metadata": {},
   "outputs": [
    {
     "data": {
      "image/png": "[encoded data removed]",
      "text/plain": [
       "<Figure size 720x504 with 1 Axes>"
      ]
     },
     "metadata": {
      "needs_background": "light"
     },
     "output_type": "display_data"
    }
   ],
   "source": [
    "plt.figure(figsize=(10,7))\n",
    "plt.hist(df['weeks_active'],edgecolor='red',bins=30)\n",
    "plt.xlabel('weeks')\n",
    "plt.ylabel('count')\n",
    "plt.title('customers being active')\n",
    "plt.show()"
   ]
  },
  {
   "cell_type": "code",
   "execution_count": 25,
   "id": "31f551a8",
   "metadata": {},
   "outputs": [],
   "source": [
    "# Observation\n",
    "## The maximum number of weeks that a customer being active is 243 weeks\n",
    "## The minimum number of weeks that a customer being active is 1 week\n",
    "## And the more number of weeks that the customers being active is in between 60 and 140 weeks"
   ]
  },
  {
   "cell_type": "markdown",
   "id": "7430d650",
   "metadata": {},
   "source": [
    "## Analysis on customers who renewed the contract"
   ]
  },
  {
   "cell_type": "code",
   "execution_count": 26,
   "id": "01619470",
   "metadata": {},
   "outputs": [
    {
     "data": {
      "text/plain": [
       "1    0.90309\n",
       "0    0.09691\n",
       "Name: conrenew_flag, dtype: float64"
      ]
     },
     "execution_count": 26,
     "metadata": {},
     "output_type": "execute_result"
    }
   ],
   "source": [
    "r=df.conrenew_flag.value_counts(normalize=True)\n",
    "r"
   ]
  },
  {
   "cell_type": "code",
   "execution_count": 27,
   "id": "5c65ae1e",
   "metadata": {},
   "outputs": [
    {
     "data": {
      "image/png": "[encoded data removed]",
      "text/plain": [
       "<Figure size 432x288 with 1 Axes>"
      ]
     },
     "metadata": {},
     "output_type": "display_data"
    }
   ],
   "source": [
    "plt.pie(r,labels=['Renewed the contract','NotRenewed the contract'],autopct='%1.2f%%')\n",
    "plt.show()"
   ]
  },
  {
   "cell_type": "code",
   "execution_count": 28,
   "id": "408cf08d",
   "metadata": {},
   "outputs": [
    {
     "data": {
      "text/plain": [
       "1    3010\n",
       "0     323\n",
       "Name: conrenew_flag, dtype: int64"
      ]
     },
     "execution_count": 28,
     "metadata": {},
     "output_type": "execute_result"
    }
   ],
   "source": [
    "df.conrenew_flag.value_counts()"
   ]
  },
  {
   "cell_type": "code",
   "execution_count": 29,
   "id": "16a87761",
   "metadata": {},
   "outputs": [],
   "source": [
    "# Observation \n",
    "## Nearly 3000 customers have renewed the Contract\n",
    "## and about 323 customers have not renewed the Contract"
   ]
  },
  {
   "cell_type": "markdown",
   "id": "8bcaeb12",
   "metadata": {},
   "source": [
    "## Analysis on Data plan"
   ]
  },
  {
   "cell_type": "code",
   "execution_count": 30,
   "id": "161b74ab",
   "metadata": {},
   "outputs": [],
   "source": [
    "## 1->> Indicates that the customers has the plan on going \n",
    "## 0->> Indicates that the customers has no plan"
   ]
  },
  {
   "cell_type": "code",
   "execution_count": 31,
   "id": "337b2202",
   "metadata": {},
   "outputs": [],
   "source": [
    "sns.set_theme()"
   ]
  },
  {
   "cell_type": "code",
   "execution_count": 32,
   "id": "b97031f7",
   "metadata": {},
   "outputs": [
    {
     "data": {
      "image/png": "[encoded data removed]",
      "text/plain": [
       "<Figure size 432x288 with 1 Axes>"
      ]
     },
     "metadata": {},
     "output_type": "display_data"
    }
   ],
   "source": [
    "sns.histplot(df.dataplan_flag);"
   ]
  },
  {
   "cell_type": "code",
   "execution_count": 33,
   "id": "7d53ac4d",
   "metadata": {},
   "outputs": [
    {
     "data": {
      "text/plain": [
       "0    0.723372\n",
       "1    0.276628\n",
       "Name: dataplan_flag, dtype: float64"
      ]
     },
     "execution_count": 33,
     "metadata": {},
     "output_type": "execute_result"
    }
   ],
   "source": [
    "d=df.dataplan_flag.value_counts(normalize=True)\n",
    "d"
   ]
  },
  {
   "cell_type": "code",
   "execution_count": 34,
   "id": "78ebe5e9",
   "metadata": {},
   "outputs": [],
   "source": [
    "# Observation \n",
    "## About 72 % has no plan\n",
    "## About 28 % has plan"
   ]
  },
  {
   "cell_type": "code",
   "execution_count": 35,
   "id": "a27b1db7",
   "metadata": {},
   "outputs": [],
   "source": [
    "# Observation \n",
    "## About 2411 customers have their Data Plan\n",
    "## About 922 customers don't have their Data Plan"
   ]
  },
  {
   "cell_type": "markdown",
   "id": "4d281fd6",
   "metadata": {},
   "source": [
    "# Analysis on data_flag"
   ]
  },
  {
   "cell_type": "code",
   "execution_count": 36,
   "id": "f056178d",
   "metadata": {},
   "outputs": [
    {
     "data": {
      "image/png": "[encoded data removed]",
      "text/plain": [
       "<Figure size 432x288 with 1 Axes>"
      ]
     },
     "metadata": {},
     "output_type": "display_data"
    }
   ],
   "source": [
    "plt.pie(d,labels=['Having the data plan','Not having the data plan'],autopct='%1.2f%%')\n",
    "plt.show()"
   ]
  },
  {
   "cell_type": "markdown",
   "id": "aea919b8",
   "metadata": {},
   "source": [
    "# Analysis on calls to customer_service"
   ]
  },
  {
   "cell_type": "code",
   "execution_count": 37,
   "id": "9b10c97d",
   "metadata": {},
   "outputs": [
    {
     "data": {
      "text/plain": [
       "1    1181\n",
       "2     759\n",
       "0     697\n",
       "3     429\n",
       "4     166\n",
       "5      66\n",
       "6      22\n",
       "7       9\n",
       "8       2\n",
       "9       2\n",
       "Name: num_cs_calls, dtype: int64"
      ]
     },
     "execution_count": 37,
     "metadata": {},
     "output_type": "execute_result"
    }
   ],
   "source": [
    "df.num_cs_calls.value_counts()"
   ]
  },
  {
   "cell_type": "code",
   "execution_count": 38,
   "id": "ace1531a",
   "metadata": {},
   "outputs": [
    {
     "data": {
      "image/png": "[encoded data removed]",
      "text/plain": [
       "<Figure size 720x504 with 1 Axes>"
      ]
     },
     "metadata": {},
     "output_type": "display_data"
    }
   ],
   "source": [
    "plt.figure(figsize=(10,7))\n",
    "sns.countplot(data=df,x='num_cs_calls');"
   ]
  },
  {
   "cell_type": "code",
   "execution_count": 39,
   "id": "570d62ea",
   "metadata": {},
   "outputs": [],
   "source": [
    "# Observation\n",
    "## The max number of calls to customer service is found to be 1 i.e, 1181\n",
    "## followed by 2 calls which is of 759 times and so on"
   ]
  },
  {
   "cell_type": "markdown",
   "id": "8417e7b2",
   "metadata": {},
   "source": [
    "# Analysis on avg_talk_time in a Day"
   ]
  },
  {
   "cell_type": "code",
   "execution_count": 40,
   "id": "9de6e8d9",
   "metadata": {},
   "outputs": [
    {
     "data": {
      "text/plain": [
       "count    3333.000000\n",
       "mean      179.775098\n",
       "std        54.467389\n",
       "min         0.000000\n",
       "25%       143.700000\n",
       "50%       179.400000\n",
       "75%       216.400000\n",
       "max       350.800000\n",
       "Name: avg_talk_time, dtype: float64"
      ]
     },
     "execution_count": 40,
     "metadata": {},
     "output_type": "execute_result"
    }
   ],
   "source": [
    "df['avg_talk_time'].describe()"
   ]
  },
  {
   "cell_type": "code",
   "execution_count": 41,
   "id": "e95694f6",
   "metadata": {},
   "outputs": [
    {
     "data": {
      "image/png": "[encoded data removed]",
      "text/plain": [
       "<Figure size 720x504 with 1 Axes>"
      ]
     },
     "metadata": {},
     "output_type": "display_data"
    }
   ],
   "source": [
    "plt.figure(figsize=(10,7))\n",
    "sns.histplot(df['avg_talk_time'],bins=50);"
   ]
  },
  {
   "cell_type": "code",
   "execution_count": 42,
   "id": "07e51610",
   "metadata": {},
   "outputs": [],
   "source": [
    "# Observation\n",
    "## The maximum average talk time in a day is found out to be 350.8 minutes\n",
    "## And the more number of average talk time in a day lies between 140 minutes and 230 minutes\n"
   ]
  },
  {
   "cell_type": "markdown",
   "id": "0f00b8f9",
   "metadata": {},
   "source": [
    "# Analysis on average Calls made in day"
   ]
  },
  {
   "cell_type": "code",
   "execution_count": 43,
   "id": "05825913",
   "metadata": {},
   "outputs": [
    {
     "data": {
      "text/plain": [
       "count    3333.000000\n",
       "mean      100.435644\n",
       "std        20.069084\n",
       "min         0.000000\n",
       "25%        87.000000\n",
       "50%       101.000000\n",
       "75%       114.000000\n",
       "max       165.000000\n",
       "Name: avg_calls, dtype: float64"
      ]
     },
     "execution_count": 43,
     "metadata": {},
     "output_type": "execute_result"
    }
   ],
   "source": [
    "df.avg_calls.describe()"
   ]
  },
  {
   "cell_type": "code",
   "execution_count": 44,
   "id": "9a1c34c6",
   "metadata": {},
   "outputs": [
    {
     "data": {
      "image/png": "[encoded data removed]",
      "text/plain": [
       "<Figure size 720x504 with 1 Axes>"
      ]
     },
     "metadata": {},
     "output_type": "display_data"
    }
   ],
   "source": [
    "plt.figure(figsize=(10,7))\n",
    "sns.histplot(df.avg_calls,bins=50);"
   ]
  },
  {
   "cell_type": "code",
   "execution_count": 45,
   "id": "ed349cf0",
   "metadata": {},
   "outputs": [],
   "source": [
    "# Observation \n",
    "## The maximum number of calls made in a day is found out to be 165\n",
    "## The least number of calls made in a day is found out to be 0\n",
    "## And the maximum number of calls in a day lies between the number 80 and 120"
   ]
  },
  {
   "cell_type": "markdown",
   "id": "f2e57d85",
   "metadata": {},
   "source": [
    "# Analysis on average monthly_bill"
   ]
  },
  {
   "cell_type": "code",
   "execution_count": 46,
   "id": "be087a09",
   "metadata": {},
   "outputs": [
    {
     "data": {
      "text/plain": [
       "627"
      ]
     },
     "execution_count": 46,
     "metadata": {},
     "output_type": "execute_result"
    }
   ],
   "source": [
    "df.mth_bill.nunique()"
   ]
  },
  {
   "cell_type": "code",
   "execution_count": 47,
   "id": "01edf66d",
   "metadata": {},
   "outputs": [
    {
     "data": {
      "text/plain": [
       "count    3333.000000\n",
       "mean       56.305161\n",
       "std        16.426032\n",
       "min        14.000000\n",
       "25%        45.000000\n",
       "50%        53.500000\n",
       "75%        66.200000\n",
       "max       111.300000\n",
       "Name: mth_bill, dtype: float64"
      ]
     },
     "execution_count": 47,
     "metadata": {},
     "output_type": "execute_result"
    }
   ],
   "source": [
    "df.mth_bill.describe()"
   ]
  },
  {
   "cell_type": "code",
   "execution_count": 48,
   "id": "3b639732",
   "metadata": {},
   "outputs": [
    {
     "data": {
      "image/png": "[encoded data removed]",
      "text/plain": [
       "<Figure size 720x504 with 1 Axes>"
      ]
     },
     "metadata": {},
     "output_type": "display_data"
    }
   ],
   "source": [
    "plt.figure(figsize=(10,7))\n",
    "sns.histplot(df.mth_bill);"
   ]
  },
  {
   "cell_type": "code",
   "execution_count": 49,
   "id": "0aac875d",
   "metadata": {},
   "outputs": [],
   "source": [
    "# Observation \n",
    "## The maximum average of monthly_bill is found out to be 111\n",
    "## The minimum average of monthly_bill is found out to be 14\n",
    "## And the most number of monthly_bill is fallen between 40 and 60"
   ]
  },
  {
   "cell_type": "markdown",
   "id": "97e55205",
   "metadata": {},
   "source": [
    "# Analysis on overagefee"
   ]
  },
  {
   "cell_type": "code",
   "execution_count": 50,
   "id": "cd5ace33",
   "metadata": {},
   "outputs": [
    {
     "data": {
      "text/plain": [
       "1024"
      ]
     },
     "execution_count": 50,
     "metadata": {},
     "output_type": "execute_result"
    }
   ],
   "source": [
    "df.overagefee.nunique()"
   ]
  },
  {
   "cell_type": "code",
   "execution_count": 51,
   "id": "808bdeed",
   "metadata": {},
   "outputs": [
    {
     "data": {
      "text/plain": [
       "count    3333.000000\n",
       "mean       10.051488\n",
       "std         2.535712\n",
       "min         0.000000\n",
       "25%         8.330000\n",
       "50%        10.070000\n",
       "75%        11.770000\n",
       "max        18.190000\n",
       "Name: overagefee, dtype: float64"
      ]
     },
     "execution_count": 51,
     "metadata": {},
     "output_type": "execute_result"
    }
   ],
   "source": [
    "df.overagefee.describe()"
   ]
  },
  {
   "cell_type": "code",
   "execution_count": 52,
   "id": "45b019b3",
   "metadata": {},
   "outputs": [
    {
     "data": {
      "image/png": "[encoded data removed]",
      "text/plain": [
       "<Figure size 720x504 with 1 Axes>"
      ]
     },
     "metadata": {},
     "output_type": "display_data"
    }
   ],
   "source": [
    "plt.figure(figsize=(10,7))\n",
    "sns.histplot(df.overagefee);"
   ]
  },
  {
   "cell_type": "code",
   "execution_count": 53,
   "id": "3d885692",
   "metadata": {},
   "outputs": [],
   "source": [
    "# Observation\n",
    "## The largest overagefee in the last 12 months is found "
   ]
  },
  {
   "cell_type": "code",
   "execution_count": null,
   "id": "8f0c3702",
   "metadata": {},
   "outputs": [],
   "source": []
  },
  {
   "cell_type": "markdown",
   "id": "1990def7",
   "metadata": {},
   "source": [
    "# Analysis on Roaming_minutes"
   ]
  },
  {
   "cell_type": "code",
   "execution_count": 54,
   "id": "9527e397",
   "metadata": {},
   "outputs": [
    {
     "data": {
      "text/plain": [
       "count    3333.000000\n",
       "mean       10.237294\n",
       "std         2.791840\n",
       "min         0.000000\n",
       "25%         8.500000\n",
       "50%        10.300000\n",
       "75%        12.100000\n",
       "max        20.000000\n",
       "Name: roam_mins, dtype: float64"
      ]
     },
     "execution_count": 54,
     "metadata": {},
     "output_type": "execute_result"
    }
   ],
   "source": [
    "df.roam_mins.describe()"
   ]
  },
  {
   "cell_type": "code",
   "execution_count": 55,
   "id": "e24db0e6",
   "metadata": {},
   "outputs": [
    {
     "data": {
      "image/png": "[encoded data removed]",
      "text/plain": [
       "<Figure size 720x504 with 1 Axes>"
      ]
     },
     "metadata": {},
     "output_type": "display_data"
    }
   ],
   "source": [
    "plt.figure(figsize=(10,7))\n",
    "sns.histplot(df.roam_mins);"
   ]
  },
  {
   "cell_type": "code",
   "execution_count": 56,
   "id": "9a267d9a",
   "metadata": {},
   "outputs": [],
   "source": [
    "# Observation\n",
    "## The maximum number of roaming minutes is found out to be 20 min\n",
    "## The minimum number of roaming minutes is found out to be 00 min\n",
    "## The more number of roaming minutes lies between 7.5 to 13 minutes"
   ]
  },
  {
   "cell_type": "markdown",
   "id": "09da4872",
   "metadata": {},
   "source": [
    "# Analysis on Churn"
   ]
  },
  {
   "cell_type": "code",
   "execution_count": 57,
   "id": "88222382",
   "metadata": {},
   "outputs": [
    {
     "data": {
      "text/plain": [
       "0    2850\n",
       "1     483\n",
       "Name: churn_flag, dtype: int64"
      ]
     },
     "execution_count": 57,
     "metadata": {},
     "output_type": "execute_result"
    }
   ],
   "source": [
    "df.churn_flag.value_counts()"
   ]
  },
  {
   "cell_type": "code",
   "execution_count": 58,
   "id": "b94d638a",
   "metadata": {},
   "outputs": [
    {
     "data": {
      "text/plain": [
       "0    0.855086\n",
       "1    0.144914\n",
       "Name: churn_flag, dtype: float64"
      ]
     },
     "execution_count": 58,
     "metadata": {},
     "output_type": "execute_result"
    }
   ],
   "source": [
    "c=df.churn_flag.value_counts(normalize=True)\n",
    "c"
   ]
  },
  {
   "cell_type": "code",
   "execution_count": 59,
   "id": "b22c9605",
   "metadata": {},
   "outputs": [
    {
     "data": {
      "image/png": "[encoded data removed]",
      "text/plain": [
       "<Figure size 432x288 with 1 Axes>"
      ]
     },
     "metadata": {},
     "output_type": "display_data"
    }
   ],
   "source": [
    "plt.pie(c,labels=['Non_churn','Churn'],autopct='%1.2f%%')\n",
    "plt.show()"
   ]
  },
  {
   "cell_type": "code",
   "execution_count": 60,
   "id": "54bbd893",
   "metadata": {},
   "outputs": [],
   "source": [
    "# Observation\n",
    "## About 14% of the customers are have cancelled the Service\n",
    "## And about 86% of the customers have not cancelled the Service"
   ]
  },
  {
   "cell_type": "code",
   "execution_count": 61,
   "id": "406039ef",
   "metadata": {},
   "outputs": [
    {
     "data": {
      "text/plain": [
       "<AxesSubplot:xlabel='churn_flag', ylabel='avg_talk_time'>"
      ]
     },
     "execution_count": 61,
     "metadata": {},
     "output_type": "execute_result"
    },
    {
     "data": {
      "image/png": "[encoded data removed]",
      "text/plain": [
       "<Figure size 432x288 with 1 Axes>"
      ]
     },
     "metadata": {},
     "output_type": "display_data"
    }
   ],
   "source": [
    "sns.barplot(data=df,x='churn_flag',y='avg_talk_time',ci=None)"
   ]
  },
  {
   "cell_type": "markdown",
   "id": "25e69646",
   "metadata": {},
   "source": [
    "# B. Observe Bi-variate distributions\n"
   ]
  },
  {
   "cell_type": "code",
   "execution_count": 62,
   "id": "5a3cb3f2",
   "metadata": {},
   "outputs": [
    {
     "data": {
      "text/html": [
       "<div>\n",
       "<style scoped>\n",
       "    .dataframe tbody tr th:only-of-type {\n",
       "        vertical-align: middle;\n",
       "    }\n",
       "\n",
       "    .dataframe tbody tr th {\n",
       "        vertical-align: top;\n",
       "    }\n",
       "\n",
       "    .dataframe thead th {\n",
       "        text-align: right;\n",
       "    }\n",
       "</style>\n",
       "<table border=\"1\" class=\"dataframe\">\n",
       "  <thead>\n",
       "    <tr style=\"text-align: right;\">\n",
       "      <th></th>\n",
       "      <th>weeks_active</th>\n",
       "      <th>conrenew_flag</th>\n",
       "      <th>dataplan_flag</th>\n",
       "      <th>data_usage</th>\n",
       "      <th>num_cs_calls</th>\n",
       "      <th>avg_talk_time</th>\n",
       "      <th>avg_calls</th>\n",
       "      <th>mth_bill</th>\n",
       "      <th>overagefee</th>\n",
       "      <th>roam_mins</th>\n",
       "      <th>churn_flag</th>\n",
       "    </tr>\n",
       "  </thead>\n",
       "  <tbody>\n",
       "    <tr>\n",
       "      <th>0</th>\n",
       "      <td>128</td>\n",
       "      <td>1</td>\n",
       "      <td>1</td>\n",
       "      <td>2.7</td>\n",
       "      <td>1</td>\n",
       "      <td>265.1</td>\n",
       "      <td>110</td>\n",
       "      <td>89.0</td>\n",
       "      <td>9.87</td>\n",
       "      <td>10.0</td>\n",
       "      <td>0</td>\n",
       "    </tr>\n",
       "    <tr>\n",
       "      <th>1</th>\n",
       "      <td>107</td>\n",
       "      <td>1</td>\n",
       "      <td>1</td>\n",
       "      <td>3.7</td>\n",
       "      <td>1</td>\n",
       "      <td>161.6</td>\n",
       "      <td>123</td>\n",
       "      <td>82.0</td>\n",
       "      <td>9.78</td>\n",
       "      <td>13.7</td>\n",
       "      <td>0</td>\n",
       "    </tr>\n",
       "    <tr>\n",
       "      <th>2</th>\n",
       "      <td>137</td>\n",
       "      <td>1</td>\n",
       "      <td>0</td>\n",
       "      <td>0.0</td>\n",
       "      <td>0</td>\n",
       "      <td>243.4</td>\n",
       "      <td>114</td>\n",
       "      <td>52.0</td>\n",
       "      <td>6.06</td>\n",
       "      <td>12.2</td>\n",
       "      <td>0</td>\n",
       "    </tr>\n",
       "    <tr>\n",
       "      <th>3</th>\n",
       "      <td>84</td>\n",
       "      <td>0</td>\n",
       "      <td>0</td>\n",
       "      <td>0.0</td>\n",
       "      <td>2</td>\n",
       "      <td>299.4</td>\n",
       "      <td>71</td>\n",
       "      <td>57.0</td>\n",
       "      <td>3.10</td>\n",
       "      <td>6.6</td>\n",
       "      <td>0</td>\n",
       "    </tr>\n",
       "    <tr>\n",
       "      <th>4</th>\n",
       "      <td>75</td>\n",
       "      <td>0</td>\n",
       "      <td>0</td>\n",
       "      <td>0.0</td>\n",
       "      <td>3</td>\n",
       "      <td>166.7</td>\n",
       "      <td>113</td>\n",
       "      <td>41.0</td>\n",
       "      <td>7.42</td>\n",
       "      <td>10.1</td>\n",
       "      <td>0</td>\n",
       "    </tr>\n",
       "  </tbody>\n",
       "</table>\n",
       "</div>"
      ],
      "text/plain": [
       "   weeks_active  conrenew_flag  dataplan_flag  data_usage  num_cs_calls  \\\n",
       "0           128              1              1         2.7             1   \n",
       "1           107              1              1         3.7             1   \n",
       "2           137              1              0         0.0             0   \n",
       "3            84              0              0         0.0             2   \n",
       "4            75              0              0         0.0             3   \n",
       "\n",
       "   avg_talk_time  avg_calls  mth_bill  overagefee  roam_mins  churn_flag  \n",
       "0          265.1        110      89.0        9.87       10.0           0  \n",
       "1          161.6        123      82.0        9.78       13.7           0  \n",
       "2          243.4        114      52.0        6.06       12.2           0  \n",
       "3          299.4         71      57.0        3.10        6.6           0  \n",
       "4          166.7        113      41.0        7.42       10.1           0  "
      ]
     },
     "execution_count": 62,
     "metadata": {},
     "output_type": "execute_result"
    }
   ],
   "source": [
    "df.head()"
   ]
  },
  {
   "cell_type": "code",
   "execution_count": 63,
   "id": "50a9abf8",
   "metadata": {},
   "outputs": [
    {
     "data": {
      "text/plain": [
       "Text(0, 0.5, 'conrenew_flag')"
      ]
     },
     "execution_count": 63,
     "metadata": {},
     "output_type": "execute_result"
    },
    {
     "data": {
      "image/png": "[encoded data removed]",
      "text/plain": [
       "<Figure size 432x288 with 1 Axes>"
      ]
     },
     "metadata": {},
     "output_type": "display_data"
    }
   ],
   "source": [
    "plt.scatter(df['weeks_active'],df['conrenew_flag'])\n",
    "plt.title('Weeks_active vs Conrenew')\n",
    "plt.xlabel('weeks_active')\n",
    "plt.ylabel('conrenew_flag')"
   ]
  },
  {
   "cell_type": "code",
   "execution_count": 64,
   "id": "bc0e4405",
   "metadata": {},
   "outputs": [
    {
     "data": {
      "image/png": "[encoded data removed]",
      "text/plain": [
       "<Figure size 720x432 with 1 Axes>"
      ]
     },
     "metadata": {},
     "output_type": "display_data"
    }
   ],
   "source": [
    "plt.figure(figsize=(10,6))\n",
    "plt.scatter(df['weeks_active'],df['churn_flag'])\n",
    "plt.title('Weeks_active vs churn_flag')\n",
    "plt.xlabel('weeks_active')\n",
    "plt.ylabel('churn_flag')\n",
    "plt.show()"
   ]
  },
  {
   "cell_type": "markdown",
   "id": "6bba892e",
   "metadata": {},
   "source": [
    "# Analysis on 'Weeks_active vs avg_talk_time'"
   ]
  },
  {
   "cell_type": "code",
   "execution_count": 65,
   "id": "2ba07d74",
   "metadata": {},
   "outputs": [
    {
     "data": {
      "image/png": "[encoded data removed]",
      "text/plain": [
       "<Figure size 1008x432 with 1 Axes>"
      ]
     },
     "metadata": {},
     "output_type": "display_data"
    }
   ],
   "source": [
    "plt.figure(figsize=(14,6))\n",
    "plt.scatter(df['weeks_active'],df['avg_talk_time'])\n",
    "plt.title('Weeks_active vs avg_talk_time')\n",
    "plt.xlabel('weeks_active')\n",
    "plt.ylabel('avg_talk_time')\n",
    "plt.show()"
   ]
  },
  {
   "cell_type": "code",
   "execution_count": 66,
   "id": "b7d0d7cc",
   "metadata": {},
   "outputs": [],
   "source": [
    "# Observation\n",
    "## The major data points lies in the region 50 to 150 weeks\n",
    "## As the weeks since the customer being active is increasing the the majority of the customers were found to decresing\n",
    "## with their avg_talk_time is also decresing"
   ]
  },
  {
   "cell_type": "code",
   "execution_count": 67,
   "id": "335212aa",
   "metadata": {},
   "outputs": [],
   "source": [
    "# It indicates that the after 150 weeks the average talk time of the customers is dropping down along with the count of the customers"
   ]
  },
  {
   "cell_type": "markdown",
   "id": "214f1f8c",
   "metadata": {},
   "source": [
    "# Analysis on 'Weeks_active vs data_usage'"
   ]
  },
  {
   "cell_type": "code",
   "execution_count": 68,
   "id": "739f3b2d",
   "metadata": {},
   "outputs": [
    {
     "data": {
      "image/png": "[encoded data removed]",
      "text/plain": [
       "<Figure size 1008x432 with 1 Axes>"
      ]
     },
     "metadata": {},
     "output_type": "display_data"
    }
   ],
   "source": [
    "plt.figure(figsize=(14,6))\n",
    "plt.scatter(df['weeks_active'],df['data_usage'])\n",
    "plt.title('Weeks_active vs data_usage')\n",
    "plt.xlabel('weeks_active')\n",
    "plt.ylabel('data_usage')\n",
    "plt.show()"
   ]
  },
  {
   "cell_type": "code",
   "execution_count": 80,
   "id": "3e84ee52",
   "metadata": {},
   "outputs": [
    {
     "data": {
      "text/html": [
       "<div>\n",
       "<style scoped>\n",
       "    .dataframe tbody tr th:only-of-type {\n",
       "        vertical-align: middle;\n",
       "    }\n",
       "\n",
       "    .dataframe tbody tr th {\n",
       "        vertical-align: top;\n",
       "    }\n",
       "\n",
       "    .dataframe thead th {\n",
       "        text-align: right;\n",
       "    }\n",
       "</style>\n",
       "<table border=\"1\" class=\"dataframe\">\n",
       "  <thead>\n",
       "    <tr style=\"text-align: right;\">\n",
       "      <th></th>\n",
       "      <th>weeks_active</th>\n",
       "      <th>conrenew_flag</th>\n",
       "      <th>dataplan_flag</th>\n",
       "      <th>data_usage</th>\n",
       "      <th>num_cs_calls</th>\n",
       "      <th>avg_talk_time</th>\n",
       "      <th>avg_calls</th>\n",
       "      <th>mth_bill</th>\n",
       "      <th>overagefee</th>\n",
       "      <th>roam_mins</th>\n",
       "      <th>churn_flag</th>\n",
       "    </tr>\n",
       "  </thead>\n",
       "  <tbody>\n",
       "    <tr>\n",
       "      <th>0</th>\n",
       "      <td>128</td>\n",
       "      <td>1</td>\n",
       "      <td>1</td>\n",
       "      <td>2.7</td>\n",
       "      <td>1</td>\n",
       "      <td>265.1</td>\n",
       "      <td>110</td>\n",
       "      <td>89.0</td>\n",
       "      <td>9.87</td>\n",
       "      <td>10.0</td>\n",
       "      <td>0</td>\n",
       "    </tr>\n",
       "    <tr>\n",
       "      <th>1</th>\n",
       "      <td>107</td>\n",
       "      <td>1</td>\n",
       "      <td>1</td>\n",
       "      <td>3.7</td>\n",
       "      <td>1</td>\n",
       "      <td>161.6</td>\n",
       "      <td>123</td>\n",
       "      <td>82.0</td>\n",
       "      <td>9.78</td>\n",
       "      <td>13.7</td>\n",
       "      <td>0</td>\n",
       "    </tr>\n",
       "    <tr>\n",
       "      <th>2</th>\n",
       "      <td>137</td>\n",
       "      <td>1</td>\n",
       "      <td>0</td>\n",
       "      <td>0.0</td>\n",
       "      <td>0</td>\n",
       "      <td>243.4</td>\n",
       "      <td>114</td>\n",
       "      <td>52.0</td>\n",
       "      <td>6.06</td>\n",
       "      <td>12.2</td>\n",
       "      <td>0</td>\n",
       "    </tr>\n",
       "    <tr>\n",
       "      <th>3</th>\n",
       "      <td>84</td>\n",
       "      <td>0</td>\n",
       "      <td>0</td>\n",
       "      <td>0.0</td>\n",
       "      <td>2</td>\n",
       "      <td>299.4</td>\n",
       "      <td>71</td>\n",
       "      <td>57.0</td>\n",
       "      <td>3.10</td>\n",
       "      <td>6.6</td>\n",
       "      <td>0</td>\n",
       "    </tr>\n",
       "    <tr>\n",
       "      <th>4</th>\n",
       "      <td>75</td>\n",
       "      <td>0</td>\n",
       "      <td>0</td>\n",
       "      <td>0.0</td>\n",
       "      <td>3</td>\n",
       "      <td>166.7</td>\n",
       "      <td>113</td>\n",
       "      <td>41.0</td>\n",
       "      <td>7.42</td>\n",
       "      <td>10.1</td>\n",
       "      <td>0</td>\n",
       "    </tr>\n",
       "  </tbody>\n",
       "</table>\n",
       "</div>"
      ],
      "text/plain": [
       "   weeks_active  conrenew_flag  dataplan_flag  data_usage  num_cs_calls  \\\n",
       "0           128              1              1         2.7             1   \n",
       "1           107              1              1         3.7             1   \n",
       "2           137              1              0         0.0             0   \n",
       "3            84              0              0         0.0             2   \n",
       "4            75              0              0         0.0             3   \n",
       "\n",
       "   avg_talk_time  avg_calls  mth_bill  overagefee  roam_mins  churn_flag  \n",
       "0          265.1        110      89.0        9.87       10.0           0  \n",
       "1          161.6        123      82.0        9.78       13.7           0  \n",
       "2          243.4        114      52.0        6.06       12.2           0  \n",
       "3          299.4         71      57.0        3.10        6.6           0  \n",
       "4          166.7        113      41.0        7.42       10.1           0  "
      ]
     },
     "execution_count": 80,
     "metadata": {},
     "output_type": "execute_result"
    }
   ],
   "source": [
    "df.head()"
   ]
  },
  {
   "cell_type": "code",
   "execution_count": null,
   "id": "9f138e0a",
   "metadata": {},
   "outputs": [],
   "source": []
  },
  {
   "cell_type": "code",
   "execution_count": 82,
   "id": "4c5461b7",
   "metadata": {},
   "outputs": [
    {
     "name": "stderr",
     "output_type": "stream",
     "text": [
      "*c* argument looks like a single numeric RGB or RGBA sequence, which should be avoided as value-mapping will have precedence in case its length matches with *x* & *y*.  Please use the *color* keyword-argument or provide a 2-D array with a single row if you intend to specify the same RGB or RGBA value for all points.\n"
     ]
    },
    {
     "data": {
      "text/plain": [
       "<AxesSubplot:xlabel='weeks_active', ylabel='avg_calls'>"
      ]
     },
     "execution_count": 82,
     "metadata": {},
     "output_type": "execute_result"
    },
    {
     "data": {
      "image/png": "[encoded data removed]",
      "text/plain": [
       "<Figure size 432x288 with 1 Axes>"
      ]
     },
     "metadata": {},
     "output_type": "display_data"
    }
   ],
   "source": [
    "df.plot(kind='scatter',x='weeks_active',y='avg_calls')"
   ]
  },
  {
   "cell_type": "markdown",
   "id": "39576ece",
   "metadata": {},
   "source": [
    "# Analysis on 'Weeks_active vs avg_calls'"
   ]
  },
  {
   "cell_type": "code",
   "execution_count": 87,
   "id": "64b11adb",
   "metadata": {},
   "outputs": [
    {
     "data": {
      "image/png": "[encoded data removed]",
      "text/plain": [
       "<Figure size 720x432 with 1 Axes>"
      ]
     },
     "metadata": {},
     "output_type": "display_data"
    }
   ],
   "source": [
    "plt.figure(figsize=(10,6))\n",
    "plt.scatter(df['weeks_active'],df['avg_calls'])\n",
    "plt.title('Weeks_active vs avg_calls')\n",
    "plt.xlabel('weeks_active')\n",
    "plt.ylabel('avg_calls')\n",
    "plt.show()"
   ]
  },
  {
   "cell_type": "code",
   "execution_count": null,
   "id": "acd5069e",
   "metadata": {},
   "outputs": [],
   "source": [
    "# Observation \n",
    "## The major data points lies in the region 50 to 150 weeks\n",
    "## As the weeks since the customer being active is increasing the the majority of the customers were found to be decresing\n",
    "## It indicates that the after 150 weeks the average talk time of the customers is dropping down\n",
    "## along with the count of the customers"
   ]
  },
  {
   "cell_type": "markdown",
   "id": "51857c1e",
   "metadata": {},
   "source": [
    "# Analysis on 'Weeks_active vs overagefee'"
   ]
  },
  {
   "cell_type": "code",
   "execution_count": 89,
   "id": "831b24bb",
   "metadata": {},
   "outputs": [
    {
     "data": {
      "image/png": "[encoded data removed]",
      "text/plain": [
       "<Figure size 720x432 with 1 Axes>"
      ]
     },
     "metadata": {},
     "output_type": "display_data"
    }
   ],
   "source": [
    "plt.figure(figsize=(10,6))\n",
    "plt.scatter(df['weeks_active'],df['overagefee'])\n",
    "plt.title('Weeks_active vs overagefee')\n",
    "plt.xlabel('weeks_active')\n",
    "plt.ylabel('overagefee')\n",
    "plt.show()"
   ]
  },
  {
   "cell_type": "code",
   "execution_count": null,
   "id": "103d9e55",
   "metadata": {},
   "outputs": [],
   "source": [
    "# Observation\n",
    "## The major data points lies in the region 60 to 140 weeks\n",
    "## the maximum overagefee is found out to be"
   ]
  },
  {
   "cell_type": "code",
   "execution_count": 90,
   "id": "116e91c1",
   "metadata": {},
   "outputs": [
    {
     "data": {
      "text/plain": [
       "18.19"
      ]
     },
     "execution_count": 90,
     "metadata": {},
     "output_type": "execute_result"
    }
   ],
   "source": [
    "df.overagefee.max()"
   ]
  },
  {
   "cell_type": "code",
   "execution_count": null,
   "id": "5b5cf76e",
   "metadata": {},
   "outputs": [],
   "source": []
  },
  {
   "cell_type": "code",
   "execution_count": null,
   "id": "ab1bea5b",
   "metadata": {},
   "outputs": [],
   "source": []
  },
  {
   "cell_type": "code",
   "execution_count": 69,
   "id": "f35e4d41",
   "metadata": {},
   "outputs": [
    {
     "data": {
      "text/html": [
       "<div>\n",
       "<style scoped>\n",
       "    .dataframe tbody tr th:only-of-type {\n",
       "        vertical-align: middle;\n",
       "    }\n",
       "\n",
       "    .dataframe tbody tr th {\n",
       "        vertical-align: top;\n",
       "    }\n",
       "\n",
       "    .dataframe thead th {\n",
       "        text-align: right;\n",
       "    }\n",
       "</style>\n",
       "<table border=\"1\" class=\"dataframe\">\n",
       "  <thead>\n",
       "    <tr style=\"text-align: right;\">\n",
       "      <th></th>\n",
       "      <th>weeks_active</th>\n",
       "      <th>conrenew_flag</th>\n",
       "      <th>dataplan_flag</th>\n",
       "      <th>data_usage</th>\n",
       "      <th>num_cs_calls</th>\n",
       "      <th>avg_talk_time</th>\n",
       "      <th>avg_calls</th>\n",
       "      <th>mth_bill</th>\n",
       "      <th>overagefee</th>\n",
       "      <th>roam_mins</th>\n",
       "      <th>churn_flag</th>\n",
       "    </tr>\n",
       "  </thead>\n",
       "  <tbody>\n",
       "  </tbody>\n",
       "</table>\n",
       "</div>"
      ],
      "text/plain": [
       "Empty DataFrame\n",
       "Columns: [weeks_active, conrenew_flag, dataplan_flag, data_usage, num_cs_calls, avg_talk_time, avg_calls, mth_bill, overagefee, roam_mins, churn_flag]\n",
       "Index: []"
      ]
     },
     "execution_count": 69,
     "metadata": {},
     "output_type": "execute_result"
    }
   ],
   "source": [
    "df[(df.conrenew_flag==1) & (df.data_usage==0) & (df.weeks_active)>200]`"
   ]
  },
  {
   "cell_type": "code",
   "execution_count": 70,
   "id": "6daf9cd4",
   "metadata": {},
   "outputs": [
    {
     "data": {
      "text/html": [
       "<div>\n",
       "<style scoped>\n",
       "    .dataframe tbody tr th:only-of-type {\n",
       "        vertical-align: middle;\n",
       "    }\n",
       "\n",
       "    .dataframe tbody tr th {\n",
       "        vertical-align: top;\n",
       "    }\n",
       "\n",
       "    .dataframe thead th {\n",
       "        text-align: right;\n",
       "    }\n",
       "</style>\n",
       "<table border=\"1\" class=\"dataframe\">\n",
       "  <thead>\n",
       "    <tr style=\"text-align: right;\">\n",
       "      <th></th>\n",
       "      <th>weeks_active</th>\n",
       "      <th>conrenew_flag</th>\n",
       "      <th>dataplan_flag</th>\n",
       "      <th>data_usage</th>\n",
       "      <th>num_cs_calls</th>\n",
       "      <th>avg_talk_time</th>\n",
       "      <th>avg_calls</th>\n",
       "      <th>mth_bill</th>\n",
       "      <th>overagefee</th>\n",
       "      <th>roam_mins</th>\n",
       "      <th>churn_flag</th>\n",
       "    </tr>\n",
       "  </thead>\n",
       "  <tbody>\n",
       "    <tr>\n",
       "      <th>2</th>\n",
       "      <td>137</td>\n",
       "      <td>1</td>\n",
       "      <td>0</td>\n",
       "      <td>0.00</td>\n",
       "      <td>0</td>\n",
       "      <td>243.4</td>\n",
       "      <td>114</td>\n",
       "      <td>52.0</td>\n",
       "      <td>6.06</td>\n",
       "      <td>12.2</td>\n",
       "      <td>0</td>\n",
       "    </tr>\n",
       "    <tr>\n",
       "      <th>3</th>\n",
       "      <td>84</td>\n",
       "      <td>0</td>\n",
       "      <td>0</td>\n",
       "      <td>0.00</td>\n",
       "      <td>2</td>\n",
       "      <td>299.4</td>\n",
       "      <td>71</td>\n",
       "      <td>57.0</td>\n",
       "      <td>3.10</td>\n",
       "      <td>6.6</td>\n",
       "      <td>0</td>\n",
       "    </tr>\n",
       "    <tr>\n",
       "      <th>4</th>\n",
       "      <td>75</td>\n",
       "      <td>0</td>\n",
       "      <td>0</td>\n",
       "      <td>0.00</td>\n",
       "      <td>3</td>\n",
       "      <td>166.7</td>\n",
       "      <td>113</td>\n",
       "      <td>41.0</td>\n",
       "      <td>7.42</td>\n",
       "      <td>10.1</td>\n",
       "      <td>0</td>\n",
       "    </tr>\n",
       "    <tr>\n",
       "      <th>5</th>\n",
       "      <td>118</td>\n",
       "      <td>0</td>\n",
       "      <td>0</td>\n",
       "      <td>0.00</td>\n",
       "      <td>0</td>\n",
       "      <td>223.4</td>\n",
       "      <td>98</td>\n",
       "      <td>57.0</td>\n",
       "      <td>11.03</td>\n",
       "      <td>6.3</td>\n",
       "      <td>0</td>\n",
       "    </tr>\n",
       "    <tr>\n",
       "      <th>7</th>\n",
       "      <td>147</td>\n",
       "      <td>0</td>\n",
       "      <td>0</td>\n",
       "      <td>0.00</td>\n",
       "      <td>0</td>\n",
       "      <td>157.0</td>\n",
       "      <td>79</td>\n",
       "      <td>36.0</td>\n",
       "      <td>5.16</td>\n",
       "      <td>7.1</td>\n",
       "      <td>0</td>\n",
       "    </tr>\n",
       "    <tr>\n",
       "      <th>...</th>\n",
       "      <td>...</td>\n",
       "      <td>...</td>\n",
       "      <td>...</td>\n",
       "      <td>...</td>\n",
       "      <td>...</td>\n",
       "      <td>...</td>\n",
       "      <td>...</td>\n",
       "      <td>...</td>\n",
       "      <td>...</td>\n",
       "      <td>...</td>\n",
       "      <td>...</td>\n",
       "    </tr>\n",
       "    <tr>\n",
       "      <th>3326</th>\n",
       "      <td>96</td>\n",
       "      <td>1</td>\n",
       "      <td>0</td>\n",
       "      <td>0.36</td>\n",
       "      <td>1</td>\n",
       "      <td>106.6</td>\n",
       "      <td>128</td>\n",
       "      <td>46.6</td>\n",
       "      <td>14.24</td>\n",
       "      <td>14.9</td>\n",
       "      <td>0</td>\n",
       "    </tr>\n",
       "    <tr>\n",
       "      <th>3327</th>\n",
       "      <td>79</td>\n",
       "      <td>1</td>\n",
       "      <td>0</td>\n",
       "      <td>0.00</td>\n",
       "      <td>2</td>\n",
       "      <td>134.7</td>\n",
       "      <td>98</td>\n",
       "      <td>40.0</td>\n",
       "      <td>9.49</td>\n",
       "      <td>11.8</td>\n",
       "      <td>0</td>\n",
       "    </tr>\n",
       "    <tr>\n",
       "      <th>3329</th>\n",
       "      <td>68</td>\n",
       "      <td>1</td>\n",
       "      <td>0</td>\n",
       "      <td>0.34</td>\n",
       "      <td>3</td>\n",
       "      <td>231.1</td>\n",
       "      <td>57</td>\n",
       "      <td>56.4</td>\n",
       "      <td>7.67</td>\n",
       "      <td>9.6</td>\n",
       "      <td>0</td>\n",
       "    </tr>\n",
       "    <tr>\n",
       "      <th>3330</th>\n",
       "      <td>28</td>\n",
       "      <td>1</td>\n",
       "      <td>0</td>\n",
       "      <td>0.00</td>\n",
       "      <td>2</td>\n",
       "      <td>180.8</td>\n",
       "      <td>109</td>\n",
       "      <td>56.0</td>\n",
       "      <td>14.44</td>\n",
       "      <td>14.1</td>\n",
       "      <td>0</td>\n",
       "    </tr>\n",
       "    <tr>\n",
       "      <th>3331</th>\n",
       "      <td>184</td>\n",
       "      <td>0</td>\n",
       "      <td>0</td>\n",
       "      <td>0.00</td>\n",
       "      <td>2</td>\n",
       "      <td>213.8</td>\n",
       "      <td>105</td>\n",
       "      <td>50.0</td>\n",
       "      <td>7.98</td>\n",
       "      <td>5.0</td>\n",
       "      <td>0</td>\n",
       "    </tr>\n",
       "  </tbody>\n",
       "</table>\n",
       "<p>2420 rows × 11 columns</p>\n",
       "</div>"
      ],
      "text/plain": [
       "      weeks_active  conrenew_flag  dataplan_flag  data_usage  num_cs_calls  \\\n",
       "2              137              1              0        0.00             0   \n",
       "3               84              0              0        0.00             2   \n",
       "4               75              0              0        0.00             3   \n",
       "5              118              0              0        0.00             0   \n",
       "7              147              0              0        0.00             0   \n",
       "...            ...            ...            ...         ...           ...   \n",
       "3326            96              1              0        0.36             1   \n",
       "3327            79              1              0        0.00             2   \n",
       "3329            68              1              0        0.34             3   \n",
       "3330            28              1              0        0.00             2   \n",
       "3331           184              0              0        0.00             2   \n",
       "\n",
       "      avg_talk_time  avg_calls  mth_bill  overagefee  roam_mins  churn_flag  \n",
       "2             243.4        114      52.0        6.06       12.2           0  \n",
       "3             299.4         71      57.0        3.10        6.6           0  \n",
       "4             166.7        113      41.0        7.42       10.1           0  \n",
       "5             223.4         98      57.0       11.03        6.3           0  \n",
       "7             157.0         79      36.0        5.16        7.1           0  \n",
       "...             ...        ...       ...         ...        ...         ...  \n",
       "3326          106.6        128      46.6       14.24       14.9           0  \n",
       "3327          134.7         98      40.0        9.49       11.8           0  \n",
       "3329          231.1         57      56.4        7.67        9.6           0  \n",
       "3330          180.8        109      56.0       14.44       14.1           0  \n",
       "3331          213.8        105      50.0        7.98        5.0           0  \n",
       "\n",
       "[2420 rows x 11 columns]"
      ]
     },
     "execution_count": 70,
     "metadata": {},
     "output_type": "execute_result"
    }
   ],
   "source": [
    "df[df['data_usage']<=1]"
   ]
  },
  {
   "cell_type": "code",
   "execution_count": 71,
   "id": "cfd80b60",
   "metadata": {},
   "outputs": [
    {
     "data": {
      "text/plain": [
       "0.00    1813\n",
       "0.31      41\n",
       "0.21      39\n",
       "0.29      36\n",
       "0.26      34\n",
       "        ... \n",
       "4.13       1\n",
       "4.59       1\n",
       "0.68       1\n",
       "4.29       1\n",
       "4.64       1\n",
       "Name: data_usage, Length: 174, dtype: int64"
      ]
     },
     "execution_count": 71,
     "metadata": {},
     "output_type": "execute_result"
    }
   ],
   "source": [
    "df['data_usage'].value_counts()"
   ]
  },
  {
   "cell_type": "code",
   "execution_count": 72,
   "id": "7926e3b9",
   "metadata": {},
   "outputs": [],
   "source": [
    "# Observation\n",
    "## Nearly  2420 customers uses less than 1 Gb even when the weeks_active is increasing\n",
    "## Most of the data points are concentrated in the region between 50 and 150 weeks\n",
    "## During this the more number of customers were using between 3 and 4 Gb\n",
    "## After 150 weeks the customers using the data between 3 and 4 Gb is significantly dropping down \n",
    "## After 200 weeks their is more number of customers who have used the data"
   ]
  },
  {
   "cell_type": "code",
   "execution_count": 73,
   "id": "9f53380d",
   "metadata": {},
   "outputs": [
    {
     "data": {
      "image/png": "[encoded data removed]",
      "text/plain": [
       "<Figure size 1008x432 with 1 Axes>"
      ]
     },
     "metadata": {},
     "output_type": "display_data"
    }
   ],
   "source": [
    "plt.figure(figsize=(14,6))\n",
    "plt.scatter(df['weeks_active'],df['num_cs_calls'])\n",
    "plt.title('Weeks_active vs num_cs_calls')\n",
    "plt.xlabel('weeks_active')\n",
    "plt.ylabel('num_cs_calls')\n",
    "plt.show()"
   ]
  },
  {
   "cell_type": "code",
   "execution_count": 74,
   "id": "ff3a4d17",
   "metadata": {},
   "outputs": [
    {
     "data": {
      "image/png": "[encoded data removed]",
      "text/plain": [
       "<Figure size 720x504 with 1 Axes>"
      ]
     },
     "metadata": {},
     "output_type": "display_data"
    }
   ],
   "source": [
    "plt.figure(figsize=(10,7))\n",
    "sns.histplot(data=df,x='weeks_active',y='num_cs_calls');"
   ]
  },
  {
   "cell_type": "code",
   "execution_count": null,
   "id": "f52f25da",
   "metadata": {},
   "outputs": [],
   "source": []
  },
  {
   "cell_type": "code",
   "execution_count": null,
   "id": "58289e20",
   "metadata": {},
   "outputs": [],
   "source": []
  },
  {
   "cell_type": "code",
   "execution_count": null,
   "id": "d34d3c4e",
   "metadata": {},
   "outputs": [],
   "source": []
  },
  {
   "cell_type": "code",
   "execution_count": null,
   "id": "ca973af0",
   "metadata": {},
   "outputs": [],
   "source": []
  },
  {
   "cell_type": "code",
   "execution_count": null,
   "id": "a18cd380",
   "metadata": {},
   "outputs": [],
   "source": []
  },
  {
   "cell_type": "code",
   "execution_count": null,
   "id": "6fdbcea3",
   "metadata": {},
   "outputs": [],
   "source": []
  },
  {
   "cell_type": "code",
   "execution_count": 75,
   "id": "13c59c79",
   "metadata": {},
   "outputs": [
    {
     "data": {
      "text/html": [
       "<div>\n",
       "<style scoped>\n",
       "    .dataframe tbody tr th:only-of-type {\n",
       "        vertical-align: middle;\n",
       "    }\n",
       "\n",
       "    .dataframe tbody tr th {\n",
       "        vertical-align: top;\n",
       "    }\n",
       "\n",
       "    .dataframe thead th {\n",
       "        text-align: right;\n",
       "    }\n",
       "</style>\n",
       "<table border=\"1\" class=\"dataframe\">\n",
       "  <thead>\n",
       "    <tr style=\"text-align: right;\">\n",
       "      <th></th>\n",
       "      <th>weeks_active</th>\n",
       "      <th>conrenew_flag</th>\n",
       "      <th>dataplan_flag</th>\n",
       "      <th>data_usage</th>\n",
       "      <th>num_cs_calls</th>\n",
       "      <th>avg_talk_time</th>\n",
       "      <th>avg_calls</th>\n",
       "      <th>mth_bill</th>\n",
       "      <th>overagefee</th>\n",
       "      <th>roam_mins</th>\n",
       "      <th>churn_flag</th>\n",
       "    </tr>\n",
       "  </thead>\n",
       "  <tbody>\n",
       "    <tr>\n",
       "      <th>10</th>\n",
       "      <td>65</td>\n",
       "      <td>1</td>\n",
       "      <td>0</td>\n",
       "      <td>0.29</td>\n",
       "      <td>4</td>\n",
       "      <td>129.1</td>\n",
       "      <td>137</td>\n",
       "      <td>44.9</td>\n",
       "      <td>11.43</td>\n",
       "      <td>12.7</td>\n",
       "      <td>1</td>\n",
       "    </tr>\n",
       "    <tr>\n",
       "      <th>15</th>\n",
       "      <td>161</td>\n",
       "      <td>1</td>\n",
       "      <td>0</td>\n",
       "      <td>0.00</td>\n",
       "      <td>4</td>\n",
       "      <td>332.9</td>\n",
       "      <td>67</td>\n",
       "      <td>84.0</td>\n",
       "      <td>15.89</td>\n",
       "      <td>5.4</td>\n",
       "      <td>1</td>\n",
       "    </tr>\n",
       "    <tr>\n",
       "      <th>21</th>\n",
       "      <td>77</td>\n",
       "      <td>1</td>\n",
       "      <td>0</td>\n",
       "      <td>0.00</td>\n",
       "      <td>5</td>\n",
       "      <td>62.4</td>\n",
       "      <td>89</td>\n",
       "      <td>26.0</td>\n",
       "      <td>8.50</td>\n",
       "      <td>5.7</td>\n",
       "      <td>1</td>\n",
       "    </tr>\n",
       "    <tr>\n",
       "      <th>33</th>\n",
       "      <td>12</td>\n",
       "      <td>1</td>\n",
       "      <td>0</td>\n",
       "      <td>0.00</td>\n",
       "      <td>1</td>\n",
       "      <td>249.6</td>\n",
       "      <td>118</td>\n",
       "      <td>64.0</td>\n",
       "      <td>12.62</td>\n",
       "      <td>11.8</td>\n",
       "      <td>1</td>\n",
       "    </tr>\n",
       "    <tr>\n",
       "      <th>41</th>\n",
       "      <td>135</td>\n",
       "      <td>0</td>\n",
       "      <td>1</td>\n",
       "      <td>3.94</td>\n",
       "      <td>0</td>\n",
       "      <td>173.1</td>\n",
       "      <td>85</td>\n",
       "      <td>86.4</td>\n",
       "      <td>10.20</td>\n",
       "      <td>14.6</td>\n",
       "      <td>1</td>\n",
       "    </tr>\n",
       "    <tr>\n",
       "      <th>...</th>\n",
       "      <td>...</td>\n",
       "      <td>...</td>\n",
       "      <td>...</td>\n",
       "      <td>...</td>\n",
       "      <td>...</td>\n",
       "      <td>...</td>\n",
       "      <td>...</td>\n",
       "      <td>...</td>\n",
       "      <td>...</td>\n",
       "      <td>...</td>\n",
       "      <td>...</td>\n",
       "    </tr>\n",
       "    <tr>\n",
       "      <th>3301</th>\n",
       "      <td>84</td>\n",
       "      <td>1</td>\n",
       "      <td>0</td>\n",
       "      <td>0.00</td>\n",
       "      <td>0</td>\n",
       "      <td>280.0</td>\n",
       "      <td>113</td>\n",
       "      <td>65.0</td>\n",
       "      <td>10.11</td>\n",
       "      <td>10.4</td>\n",
       "      <td>1</td>\n",
       "    </tr>\n",
       "    <tr>\n",
       "      <th>3304</th>\n",
       "      <td>71</td>\n",
       "      <td>0</td>\n",
       "      <td>0</td>\n",
       "      <td>0.00</td>\n",
       "      <td>4</td>\n",
       "      <td>186.1</td>\n",
       "      <td>114</td>\n",
       "      <td>49.0</td>\n",
       "      <td>9.93</td>\n",
       "      <td>13.8</td>\n",
       "      <td>1</td>\n",
       "    </tr>\n",
       "    <tr>\n",
       "      <th>3320</th>\n",
       "      <td>122</td>\n",
       "      <td>0</td>\n",
       "      <td>0</td>\n",
       "      <td>0.30</td>\n",
       "      <td>4</td>\n",
       "      <td>140.0</td>\n",
       "      <td>101</td>\n",
       "      <td>44.0</td>\n",
       "      <td>9.82</td>\n",
       "      <td>9.7</td>\n",
       "      <td>1</td>\n",
       "    </tr>\n",
       "    <tr>\n",
       "      <th>3322</th>\n",
       "      <td>62</td>\n",
       "      <td>1</td>\n",
       "      <td>0</td>\n",
       "      <td>0.00</td>\n",
       "      <td>4</td>\n",
       "      <td>321.1</td>\n",
       "      <td>105</td>\n",
       "      <td>78.0</td>\n",
       "      <td>13.28</td>\n",
       "      <td>11.5</td>\n",
       "      <td>1</td>\n",
       "    </tr>\n",
       "    <tr>\n",
       "      <th>3323</th>\n",
       "      <td>117</td>\n",
       "      <td>1</td>\n",
       "      <td>0</td>\n",
       "      <td>0.39</td>\n",
       "      <td>5</td>\n",
       "      <td>118.4</td>\n",
       "      <td>126</td>\n",
       "      <td>45.9</td>\n",
       "      <td>12.47</td>\n",
       "      <td>13.6</td>\n",
       "      <td>1</td>\n",
       "    </tr>\n",
       "  </tbody>\n",
       "</table>\n",
       "<p>483 rows × 11 columns</p>\n",
       "</div>"
      ],
      "text/plain": [
       "      weeks_active  conrenew_flag  dataplan_flag  data_usage  num_cs_calls  \\\n",
       "10              65              1              0        0.29             4   \n",
       "15             161              1              0        0.00             4   \n",
       "21              77              1              0        0.00             5   \n",
       "33              12              1              0        0.00             1   \n",
       "41             135              0              1        3.94             0   \n",
       "...            ...            ...            ...         ...           ...   \n",
       "3301            84              1              0        0.00             0   \n",
       "3304            71              0              0        0.00             4   \n",
       "3320           122              0              0        0.30             4   \n",
       "3322            62              1              0        0.00             4   \n",
       "3323           117              1              0        0.39             5   \n",
       "\n",
       "      avg_talk_time  avg_calls  mth_bill  overagefee  roam_mins  churn_flag  \n",
       "10            129.1        137      44.9       11.43       12.7           1  \n",
       "15            332.9         67      84.0       15.89        5.4           1  \n",
       "21             62.4         89      26.0        8.50        5.7           1  \n",
       "33            249.6        118      64.0       12.62       11.8           1  \n",
       "41            173.1         85      86.4       10.20       14.6           1  \n",
       "...             ...        ...       ...         ...        ...         ...  \n",
       "3301          280.0        113      65.0       10.11       10.4           1  \n",
       "3304          186.1        114      49.0        9.93       13.8           1  \n",
       "3320          140.0        101      44.0        9.82        9.7           1  \n",
       "3322          321.1        105      78.0       13.28       11.5           1  \n",
       "3323          118.4        126      45.9       12.47       13.6           1  \n",
       "\n",
       "[483 rows x 11 columns]"
      ]
     },
     "execution_count": 75,
     "metadata": {},
     "output_type": "execute_result"
    }
   ],
   "source": [
    "df[df.churn_flag==1]"
   ]
  },
  {
   "cell_type": "code",
   "execution_count": 76,
   "id": "f1b7eaf9",
   "metadata": {},
   "outputs": [],
   "source": [
    "# 3010 have renewed the plan out of 3333"
   ]
  },
  {
   "cell_type": "code",
   "execution_count": 77,
   "id": "0033daf9",
   "metadata": {},
   "outputs": [
    {
     "data": {
      "text/plain": [
       "weeks_active     3010\n",
       "conrenew_flag    3010\n",
       "dataplan_flag    3010\n",
       "data_usage       3010\n",
       "num_cs_calls     3010\n",
       "avg_talk_time    3010\n",
       "avg_calls        3010\n",
       "mth_bill         3010\n",
       "overagefee       3010\n",
       "roam_mins        3010\n",
       "churn_flag       3010\n",
       "dtype: int64"
      ]
     },
     "execution_count": 77,
     "metadata": {},
     "output_type": "execute_result"
    }
   ],
   "source": [
    "df[df.conrenew_flag==1].count()"
   ]
  },
  {
   "cell_type": "code",
   "execution_count": 78,
   "id": "b27ba002",
   "metadata": {},
   "outputs": [],
   "source": [
    "#the below the number of people that are changing and not having the renewal plan\n",
    "# 137"
   ]
  },
  {
   "cell_type": "code",
   "execution_count": 79,
   "id": "f90a7d77",
   "metadata": {},
   "outputs": [
    {
     "data": {
      "text/html": [
       "<div>\n",
       "<style scoped>\n",
       "    .dataframe tbody tr th:only-of-type {\n",
       "        vertical-align: middle;\n",
       "    }\n",
       "\n",
       "    .dataframe tbody tr th {\n",
       "        vertical-align: top;\n",
       "    }\n",
       "\n",
       "    .dataframe thead th {\n",
       "        text-align: right;\n",
       "    }\n",
       "</style>\n",
       "<table border=\"1\" class=\"dataframe\">\n",
       "  <thead>\n",
       "    <tr style=\"text-align: right;\">\n",
       "      <th></th>\n",
       "      <th>weeks_active</th>\n",
       "      <th>conrenew_flag</th>\n",
       "      <th>dataplan_flag</th>\n",
       "      <th>data_usage</th>\n",
       "      <th>num_cs_calls</th>\n",
       "      <th>avg_talk_time</th>\n",
       "      <th>avg_calls</th>\n",
       "      <th>mth_bill</th>\n",
       "      <th>overagefee</th>\n",
       "      <th>roam_mins</th>\n",
       "      <th>churn_flag</th>\n",
       "    </tr>\n",
       "  </thead>\n",
       "  <tbody>\n",
       "    <tr>\n",
       "      <th>41</th>\n",
       "      <td>135</td>\n",
       "      <td>0</td>\n",
       "      <td>1</td>\n",
       "      <td>3.94</td>\n",
       "      <td>0</td>\n",
       "      <td>173.1</td>\n",
       "      <td>85</td>\n",
       "      <td>86.4</td>\n",
       "      <td>10.20</td>\n",
       "      <td>14.6</td>\n",
       "      <td>1</td>\n",
       "    </tr>\n",
       "    <tr>\n",
       "      <th>115</th>\n",
       "      <td>36</td>\n",
       "      <td>0</td>\n",
       "      <td>1</td>\n",
       "      <td>5.40</td>\n",
       "      <td>0</td>\n",
       "      <td>196.8</td>\n",
       "      <td>89</td>\n",
       "      <td>110.0</td>\n",
       "      <td>12.75</td>\n",
       "      <td>20.0</td>\n",
       "      <td>1</td>\n",
       "    </tr>\n",
       "    <tr>\n",
       "      <th>144</th>\n",
       "      <td>117</td>\n",
       "      <td>0</td>\n",
       "      <td>0</td>\n",
       "      <td>0.00</td>\n",
       "      <td>2</td>\n",
       "      <td>167.1</td>\n",
       "      <td>86</td>\n",
       "      <td>44.0</td>\n",
       "      <td>8.88</td>\n",
       "      <td>14.1</td>\n",
       "      <td>1</td>\n",
       "    </tr>\n",
       "    <tr>\n",
       "      <th>198</th>\n",
       "      <td>131</td>\n",
       "      <td>0</td>\n",
       "      <td>1</td>\n",
       "      <td>3.73</td>\n",
       "      <td>4</td>\n",
       "      <td>292.9</td>\n",
       "      <td>101</td>\n",
       "      <td>104.3</td>\n",
       "      <td>9.99</td>\n",
       "      <td>13.8</td>\n",
       "      <td>1</td>\n",
       "    </tr>\n",
       "    <tr>\n",
       "      <th>214</th>\n",
       "      <td>70</td>\n",
       "      <td>0</td>\n",
       "      <td>0</td>\n",
       "      <td>0.00</td>\n",
       "      <td>2</td>\n",
       "      <td>226.7</td>\n",
       "      <td>98</td>\n",
       "      <td>58.0</td>\n",
       "      <td>11.41</td>\n",
       "      <td>17.6</td>\n",
       "      <td>1</td>\n",
       "    </tr>\n",
       "    <tr>\n",
       "      <th>...</th>\n",
       "      <td>...</td>\n",
       "      <td>...</td>\n",
       "      <td>...</td>\n",
       "      <td>...</td>\n",
       "      <td>...</td>\n",
       "      <td>...</td>\n",
       "      <td>...</td>\n",
       "      <td>...</td>\n",
       "      <td>...</td>\n",
       "      <td>...</td>\n",
       "      <td>...</td>\n",
       "    </tr>\n",
       "    <tr>\n",
       "      <th>3246</th>\n",
       "      <td>77</td>\n",
       "      <td>0</td>\n",
       "      <td>1</td>\n",
       "      <td>3.21</td>\n",
       "      <td>0</td>\n",
       "      <td>103.2</td>\n",
       "      <td>117</td>\n",
       "      <td>70.1</td>\n",
       "      <td>11.82</td>\n",
       "      <td>11.9</td>\n",
       "      <td>1</td>\n",
       "    </tr>\n",
       "    <tr>\n",
       "      <th>3255</th>\n",
       "      <td>138</td>\n",
       "      <td>0</td>\n",
       "      <td>0</td>\n",
       "      <td>0.00</td>\n",
       "      <td>2</td>\n",
       "      <td>286.2</td>\n",
       "      <td>61</td>\n",
       "      <td>65.0</td>\n",
       "      <td>9.36</td>\n",
       "      <td>11.0</td>\n",
       "      <td>1</td>\n",
       "    </tr>\n",
       "    <tr>\n",
       "      <th>3291</th>\n",
       "      <td>119</td>\n",
       "      <td>0</td>\n",
       "      <td>1</td>\n",
       "      <td>3.75</td>\n",
       "      <td>1</td>\n",
       "      <td>172.1</td>\n",
       "      <td>119</td>\n",
       "      <td>86.5</td>\n",
       "      <td>11.18</td>\n",
       "      <td>13.9</td>\n",
       "      <td>1</td>\n",
       "    </tr>\n",
       "    <tr>\n",
       "      <th>3304</th>\n",
       "      <td>71</td>\n",
       "      <td>0</td>\n",
       "      <td>0</td>\n",
       "      <td>0.00</td>\n",
       "      <td>4</td>\n",
       "      <td>186.1</td>\n",
       "      <td>114</td>\n",
       "      <td>49.0</td>\n",
       "      <td>9.93</td>\n",
       "      <td>13.8</td>\n",
       "      <td>1</td>\n",
       "    </tr>\n",
       "    <tr>\n",
       "      <th>3320</th>\n",
       "      <td>122</td>\n",
       "      <td>0</td>\n",
       "      <td>0</td>\n",
       "      <td>0.30</td>\n",
       "      <td>4</td>\n",
       "      <td>140.0</td>\n",
       "      <td>101</td>\n",
       "      <td>44.0</td>\n",
       "      <td>9.82</td>\n",
       "      <td>9.7</td>\n",
       "      <td>1</td>\n",
       "    </tr>\n",
       "  </tbody>\n",
       "</table>\n",
       "<p>137 rows × 11 columns</p>\n",
       "</div>"
      ],
      "text/plain": [
       "      weeks_active  conrenew_flag  dataplan_flag  data_usage  num_cs_calls  \\\n",
       "41             135              0              1        3.94             0   \n",
       "115             36              0              1        5.40             0   \n",
       "144            117              0              0        0.00             2   \n",
       "198            131              0              1        3.73             4   \n",
       "214             70              0              0        0.00             2   \n",
       "...            ...            ...            ...         ...           ...   \n",
       "3246            77              0              1        3.21             0   \n",
       "3255           138              0              0        0.00             2   \n",
       "3291           119              0              1        3.75             1   \n",
       "3304            71              0              0        0.00             4   \n",
       "3320           122              0              0        0.30             4   \n",
       "\n",
       "      avg_talk_time  avg_calls  mth_bill  overagefee  roam_mins  churn_flag  \n",
       "41            173.1         85      86.4       10.20       14.6           1  \n",
       "115           196.8         89     110.0       12.75       20.0           1  \n",
       "144           167.1         86      44.0        8.88       14.1           1  \n",
       "198           292.9        101     104.3        9.99       13.8           1  \n",
       "214           226.7         98      58.0       11.41       17.6           1  \n",
       "...             ...        ...       ...         ...        ...         ...  \n",
       "3246          103.2        117      70.1       11.82       11.9           1  \n",
       "3255          286.2         61      65.0        9.36       11.0           1  \n",
       "3291          172.1        119      86.5       11.18       13.9           1  \n",
       "3304          186.1        114      49.0        9.93       13.8           1  \n",
       "3320          140.0        101      44.0        9.82        9.7           1  \n",
       "\n",
       "[137 rows x 11 columns]"
      ]
     },
     "execution_count": 79,
     "metadata": {},
     "output_type": "execute_result"
    }
   ],
   "source": [
    "d=df[(df.conrenew_flag==0) & (df.churn_flag==1)]\n",
    "d"
   ]
  }
 ],
 "metadata": {
  "kernelspec": {
   "display_name": "Python 3 (ipykernel)",
   "language": "python",
   "name": "python3"
  },
  "language_info": {
   "codemirror_mode": {
    "name": "ipython",
    "version": 3
   },
   "file_extension": ".py",
   "mimetype": "text/x-python",
   "name": "python",
   "nbconvert_exporter": "python",
   "pygments_lexer": "ipython3",
   "version": "3.9.7"
  }
 },
 "nbformat": 4,
 "nbformat_minor": 5
}
